{
 "cells": [
  {
   "cell_type": "code",
   "execution_count": 234,
   "id": "f3fdbf23",
   "metadata": {},
   "outputs": [],
   "source": [
    "import pandas as pd\n",
    "import numpy as np\n",
    "import os\n",
    "import seaborn as sns\n",
    "import time\n",
    "import matplotlib.pyplot as plt\n",
    "from collections import Counter\n",
    "from subprocess import check_output\n",
    "\n",
    "from sklearn import preprocessing, metrics\n",
    "from sklearn.model_selection import train_test_split, cross_val_score\n",
    "from sklearn.ensemble import RandomForestClassifier\n",
    "from sklearn.feature_selection import SelectKBest, chi2, RFECV\n",
    "\n",
    "%matplotlib inline\n",
    "plt.rcParams['figure.facecolor'] = 'white'"
   ]
  },
  {
   "cell_type": "markdown",
   "id": "595c6aac",
   "metadata": {},
   "source": [
    "## Dataset loading"
   ]
  },
  {
   "cell_type": "code",
   "execution_count": 235,
   "id": "beea6281",
   "metadata": {},
   "outputs": [],
   "source": [
    "def get_data(data_type, device, name, extension, sep):\n",
    "    \"\"\"\n",
    "    data_type: type of data to return: Normal, Mirai, RouterSploit, UFONet\n",
    "    device: the device name: archer, camera, indoor, philips, wr940n\n",
    "    name: network or energy\n",
    "    extension: file format\n",
    "    sep: file delimiter\n",
    "    \"\"\"\n",
    "    path = './QRS_dataset'\n",
    "    types = {'mirai':'Mirai', 'normal':'Normal', 'rs':'RouterSploit', 'ufo':'UFONet'}\n",
    "\n",
    "    if data_type in types.keys():\n",
    "        data_type = types[data_type]\n",
    "    \n",
    "    if data_type not in os.listdir(path):\n",
    "        print('Bad data type')\n",
    "        return False\n",
    "    \n",
    "    path += f'/{data_type}'\n",
    "    if data_type == 'Normal': \n",
    "        path += '/Normal'\n",
    "    \n",
    "    path += f'/{name}/{device}'\n",
    "    \n",
    "    if data_type == 'Normal': \n",
    "        path += '-normal1'\n",
    "    else:\n",
    "        path += '-attack1'\n",
    "\n",
    "    path += extension\n",
    "\n",
    "    return pd.read_csv(path, sep=sep, error_bad_lines=False)\n",
    "\n",
    "def get_data_network(data_type, device):\n",
    "    data = get_data(data_type, device, 'network', '.csv', ';')\n",
    "    data.drop(['Info', 'No.'], axis=1, inplace=True)\n",
    "    \n",
    "    return data\n",
    "\n",
    "def get_data_energy(data_type, device):\n",
    "    data = get_data(data_type, device, 'energy', '.amp', ',')\n",
    "    data['time'] /= 1000    # converting millis seconds\n",
    "    data.drop('timestamp', axis=1, inplace=True)\n",
    "\n",
    "    # rounding time to the nearest second\n",
    "    data['time'] = data['time'].apply(round)\n",
    "    data.drop_duplicates('time', inplace=True)\n",
    "    data.reset_index(inplace=True, drop=True)\n",
    "\n",
    "    return data\n",
    "\n",
    "def get_data_and_preprocess(data_type, device):\n",
    "    \"\"\"\n",
    "    data_type: type of data to return: Normal, Mirai, RouterSploit, UFONet\n",
    "    device: the device name: archer, camera, indoor, philips, wr940n\n",
    "    \"\"\"\n",
    "    data_network = get_data_network(data_type, device)\n",
    "    data_energy = get_data_energy(data_type, device)\n",
    "\n",
    "    # adding the energy usage for every packet\n",
    "    data_network['Energy_Time'] = data_network['Time'].apply(round)\n",
    "    data_network.drop(inplace=True, index=np.where(data_network['Energy_Time']>=data_energy['time'].max())[0])\n",
    "    data_network['energy'] = list(data_energy.loc[list(data_network['Energy_Time']), 'energy'])\n",
    "    data_network.drop('Energy_Time', axis=1, inplace=True)\n",
    "\n",
    "    data_network['target'] = data_type\n",
    "\n",
    "    data_network.reset_index(inplace=True, drop=True)\n",
    "\n",
    "    return data_network, data_energy\n"
   ]
  },
  {
   "cell_type": "code",
   "execution_count": 236,
   "id": "fe9eb54d",
   "metadata": {},
   "outputs": [
    {
     "name": "stderr",
     "output_type": "stream",
     "text": [
      "/tmp/ipykernel_1141/1354911153.py:35: FutureWarning: The error_bad_lines argument has been deprecated and will be removed in a future version.\n",
      "\n",
      "\n",
      "  data = get_data(data_type, device, 'network', '.csv', ';')\n",
      "/tmp/ipykernel_1141/1354911153.py:41: FutureWarning: The error_bad_lines argument has been deprecated and will be removed in a future version.\n",
      "\n",
      "\n",
      "  data = get_data(data_type, device, 'energy', '.amp', ',')\n"
     ]
    }
   ],
   "source": [
    "normal_network, normal_energy = get_data_and_preprocess('normal', 'archer')\n",
    "mirai_network, mirai_energy = get_data_and_preprocess('mirai', 'archer')"
   ]
  },
  {
   "cell_type": "code",
   "execution_count": 237,
   "id": "f65c240a",
   "metadata": {},
   "outputs": [
    {
     "data": {
      "text/html": [
       "<div>\n",
       "<style scoped>\n",
       "    .dataframe tbody tr th:only-of-type {\n",
       "        vertical-align: middle;\n",
       "    }\n",
       "\n",
       "    .dataframe tbody tr th {\n",
       "        vertical-align: top;\n",
       "    }\n",
       "\n",
       "    .dataframe thead th {\n",
       "        text-align: right;\n",
       "    }\n",
       "</style>\n",
       "<table border=\"1\" class=\"dataframe\">\n",
       "  <thead>\n",
       "    <tr style=\"text-align: right;\">\n",
       "      <th></th>\n",
       "      <th>Time</th>\n",
       "      <th>Source</th>\n",
       "      <th>Destination</th>\n",
       "      <th>Protocol</th>\n",
       "      <th>Length</th>\n",
       "      <th>energy</th>\n",
       "      <th>target</th>\n",
       "    </tr>\n",
       "  </thead>\n",
       "  <tbody>\n",
       "    <tr>\n",
       "      <th>0</th>\n",
       "      <td>0.000000</td>\n",
       "      <td>172.31.1.15</td>\n",
       "      <td>8.8.8.8</td>\n",
       "      <td>DNS</td>\n",
       "      <td>71</td>\n",
       "      <td>0.00</td>\n",
       "      <td>normal</td>\n",
       "    </tr>\n",
       "    <tr>\n",
       "      <th>1</th>\n",
       "      <td>0.020682</td>\n",
       "      <td>8.8.8.8</td>\n",
       "      <td>172.31.1.15</td>\n",
       "      <td>DNS</td>\n",
       "      <td>135</td>\n",
       "      <td>0.00</td>\n",
       "      <td>normal</td>\n",
       "    </tr>\n",
       "    <tr>\n",
       "      <th>2</th>\n",
       "      <td>5.002782</td>\n",
       "      <td>Tp-LinkT_81:9e:53</td>\n",
       "      <td>PcsCompu_73:1d:1d</td>\n",
       "      <td>ARP</td>\n",
       "      <td>60</td>\n",
       "      <td>0.14</td>\n",
       "      <td>normal</td>\n",
       "    </tr>\n",
       "    <tr>\n",
       "      <th>3</th>\n",
       "      <td>5.002810</td>\n",
       "      <td>PcsCompu_73:1d:1d</td>\n",
       "      <td>Tp-LinkT_81:9e:53</td>\n",
       "      <td>ARP</td>\n",
       "      <td>42</td>\n",
       "      <td>0.14</td>\n",
       "      <td>normal</td>\n",
       "    </tr>\n",
       "    <tr>\n",
       "      <th>4</th>\n",
       "      <td>5.053399</td>\n",
       "      <td>PcsCompu_73:1d:1d</td>\n",
       "      <td>Tp-LinkT_81:9e:53</td>\n",
       "      <td>ARP</td>\n",
       "      <td>42</td>\n",
       "      <td>0.14</td>\n",
       "      <td>normal</td>\n",
       "    </tr>\n",
       "    <tr>\n",
       "      <th>...</th>\n",
       "      <td>...</td>\n",
       "      <td>...</td>\n",
       "      <td>...</td>\n",
       "      <td>...</td>\n",
       "      <td>...</td>\n",
       "      <td>...</td>\n",
       "      <td>...</td>\n",
       "    </tr>\n",
       "    <tr>\n",
       "      <th>670</th>\n",
       "      <td>1783.318520</td>\n",
       "      <td>8.8.8.8</td>\n",
       "      <td>172.31.1.15</td>\n",
       "      <td>DNS</td>\n",
       "      <td>94</td>\n",
       "      <td>0.22</td>\n",
       "      <td>normal</td>\n",
       "    </tr>\n",
       "    <tr>\n",
       "      <th>671</th>\n",
       "      <td>1785.845176</td>\n",
       "      <td>172.31.1.15</td>\n",
       "      <td>8.8.8.8</td>\n",
       "      <td>DNS</td>\n",
       "      <td>68</td>\n",
       "      <td>0.22</td>\n",
       "      <td>normal</td>\n",
       "    </tr>\n",
       "    <tr>\n",
       "      <th>672</th>\n",
       "      <td>1785.858714</td>\n",
       "      <td>8.8.8.8</td>\n",
       "      <td>172.31.1.15</td>\n",
       "      <td>DNS</td>\n",
       "      <td>100</td>\n",
       "      <td>0.22</td>\n",
       "      <td>normal</td>\n",
       "    </tr>\n",
       "    <tr>\n",
       "      <th>673</th>\n",
       "      <td>1790.909397</td>\n",
       "      <td>PcsCompu_73:1d:1d</td>\n",
       "      <td>Tp-LinkT_81:9e:53</td>\n",
       "      <td>ARP</td>\n",
       "      <td>42</td>\n",
       "      <td>0.21</td>\n",
       "      <td>normal</td>\n",
       "    </tr>\n",
       "    <tr>\n",
       "      <th>674</th>\n",
       "      <td>1790.909818</td>\n",
       "      <td>Tp-LinkT_81:9e:53</td>\n",
       "      <td>PcsCompu_73:1d:1d</td>\n",
       "      <td>ARP</td>\n",
       "      <td>60</td>\n",
       "      <td>0.21</td>\n",
       "      <td>normal</td>\n",
       "    </tr>\n",
       "  </tbody>\n",
       "</table>\n",
       "<p>675 rows × 7 columns</p>\n",
       "</div>"
      ],
      "text/plain": [
       "            Time             Source        Destination Protocol  Length  \\\n",
       "0       0.000000        172.31.1.15            8.8.8.8      DNS      71   \n",
       "1       0.020682            8.8.8.8        172.31.1.15      DNS     135   \n",
       "2       5.002782  Tp-LinkT_81:9e:53  PcsCompu_73:1d:1d      ARP      60   \n",
       "3       5.002810  PcsCompu_73:1d:1d  Tp-LinkT_81:9e:53      ARP      42   \n",
       "4       5.053399  PcsCompu_73:1d:1d  Tp-LinkT_81:9e:53      ARP      42   \n",
       "..           ...                ...                ...      ...     ...   \n",
       "670  1783.318520            8.8.8.8        172.31.1.15      DNS      94   \n",
       "671  1785.845176        172.31.1.15            8.8.8.8      DNS      68   \n",
       "672  1785.858714            8.8.8.8        172.31.1.15      DNS     100   \n",
       "673  1790.909397  PcsCompu_73:1d:1d  Tp-LinkT_81:9e:53      ARP      42   \n",
       "674  1790.909818  Tp-LinkT_81:9e:53  PcsCompu_73:1d:1d      ARP      60   \n",
       "\n",
       "     energy  target  \n",
       "0      0.00  normal  \n",
       "1      0.00  normal  \n",
       "2      0.14  normal  \n",
       "3      0.14  normal  \n",
       "4      0.14  normal  \n",
       "..      ...     ...  \n",
       "670    0.22  normal  \n",
       "671    0.22  normal  \n",
       "672    0.22  normal  \n",
       "673    0.21  normal  \n",
       "674    0.21  normal  \n",
       "\n",
       "[675 rows x 7 columns]"
      ]
     },
     "execution_count": 237,
     "metadata": {},
     "output_type": "execute_result"
    }
   ],
   "source": [
    "normal_network"
   ]
  },
  {
   "cell_type": "code",
   "execution_count": 238,
   "id": "e11a2d0f",
   "metadata": {},
   "outputs": [
    {
     "data": {
      "text/html": [
       "<div>\n",
       "<style scoped>\n",
       "    .dataframe tbody tr th:only-of-type {\n",
       "        vertical-align: middle;\n",
       "    }\n",
       "\n",
       "    .dataframe tbody tr th {\n",
       "        vertical-align: top;\n",
       "    }\n",
       "\n",
       "    .dataframe thead th {\n",
       "        text-align: right;\n",
       "    }\n",
       "</style>\n",
       "<table border=\"1\" class=\"dataframe\">\n",
       "  <thead>\n",
       "    <tr style=\"text-align: right;\">\n",
       "      <th></th>\n",
       "      <th>energy</th>\n",
       "      <th>time</th>\n",
       "    </tr>\n",
       "  </thead>\n",
       "  <tbody>\n",
       "    <tr>\n",
       "      <th>0</th>\n",
       "      <td>0.00</td>\n",
       "      <td>0</td>\n",
       "    </tr>\n",
       "    <tr>\n",
       "      <th>1</th>\n",
       "      <td>0.00</td>\n",
       "      <td>1</td>\n",
       "    </tr>\n",
       "    <tr>\n",
       "      <th>2</th>\n",
       "      <td>0.06</td>\n",
       "      <td>2</td>\n",
       "    </tr>\n",
       "    <tr>\n",
       "      <th>3</th>\n",
       "      <td>0.11</td>\n",
       "      <td>3</td>\n",
       "    </tr>\n",
       "    <tr>\n",
       "      <th>4</th>\n",
       "      <td>0.12</td>\n",
       "      <td>4</td>\n",
       "    </tr>\n",
       "    <tr>\n",
       "      <th>...</th>\n",
       "      <td>...</td>\n",
       "      <td>...</td>\n",
       "    </tr>\n",
       "    <tr>\n",
       "      <th>1792</th>\n",
       "      <td>0.22</td>\n",
       "      <td>1792</td>\n",
       "    </tr>\n",
       "    <tr>\n",
       "      <th>1793</th>\n",
       "      <td>0.22</td>\n",
       "      <td>1793</td>\n",
       "    </tr>\n",
       "    <tr>\n",
       "      <th>1794</th>\n",
       "      <td>0.22</td>\n",
       "      <td>1794</td>\n",
       "    </tr>\n",
       "    <tr>\n",
       "      <th>1795</th>\n",
       "      <td>0.23</td>\n",
       "      <td>1795</td>\n",
       "    </tr>\n",
       "    <tr>\n",
       "      <th>1796</th>\n",
       "      <td>0.23</td>\n",
       "      <td>1796</td>\n",
       "    </tr>\n",
       "  </tbody>\n",
       "</table>\n",
       "<p>1797 rows × 2 columns</p>\n",
       "</div>"
      ],
      "text/plain": [
       "      energy  time\n",
       "0       0.00     0\n",
       "1       0.00     1\n",
       "2       0.06     2\n",
       "3       0.11     3\n",
       "4       0.12     4\n",
       "...      ...   ...\n",
       "1792    0.22  1792\n",
       "1793    0.22  1793\n",
       "1794    0.22  1794\n",
       "1795    0.23  1795\n",
       "1796    0.23  1796\n",
       "\n",
       "[1797 rows x 2 columns]"
      ]
     },
     "execution_count": 238,
     "metadata": {},
     "output_type": "execute_result"
    }
   ],
   "source": [
    "normal_energy"
   ]
  },
  {
   "cell_type": "code",
   "execution_count": 239,
   "id": "63a61fad",
   "metadata": {},
   "outputs": [],
   "source": [
    "# Get both network datasets in the same time-frame\n",
    "\n",
    "max_time = min(normal_network['Time'].max(), normal_network['Time'].max())\n",
    "\n",
    "normal_network.drop(inplace=True, index=np.where(normal_network['Time']>max_time)[0])\n",
    "normal_network.reset_index(inplace=True, drop=True)\n",
    "\n",
    "mirai_network.drop(inplace=True, index=list(np.where(mirai_network['Time']>max_time)[0]))\n",
    "mirai_network.reset_index(inplace=True, drop=True)\n",
    "\n",
    "normal_energy.drop(inplace=True, index=np.where(normal_energy['time']>max_time)[0])\n",
    "normal_energy.reset_index(inplace=True, drop=True)\n",
    "\n",
    "mirai_energy.drop(inplace=True, index=list(np.where(mirai_energy['time']>max_time)[0]))\n",
    "mirai_energy.reset_index(inplace=True, drop=True)"
   ]
  },
  {
   "cell_type": "markdown",
   "id": "5f46c790",
   "metadata": {},
   "source": [
    "## Energy usage"
   ]
  },
  {
   "cell_type": "code",
   "execution_count": 240,
   "id": "68873b2f",
   "metadata": {},
   "outputs": [
    {
     "data": {
      "image/png": "[encoded data removed]",
      "text/plain": [
       "<Figure size 1440x432 with 1 Axes>"
      ]
     },
     "metadata": {},
     "output_type": "display_data"
    }
   ],
   "source": [
    "fig, ax = plt.subplots()\n",
    "fig.set_size_inches(20, 6)\n",
    "\n",
    "ax.plot(normal_energy['time'], normal_energy['energy'], label='Normal conditions')\n",
    "ax.plot(mirai_energy['time'], mirai_energy['energy'], label='Mirai attack')\n",
    "ax.set_title('Energy consumption of the device over time')\n",
    "ax.set_xlabel('Time (in seconds)')\n",
    "ax.set_ylabel('Energy consumption')\n",
    "ax.legend(loc=4, prop={'size': 12})\n",
    "ax.grid()"
   ]
  },
  {
   "cell_type": "code",
   "execution_count": 241,
   "id": "cd2e2218",
   "metadata": {},
   "outputs": [
    {
     "data": {
      "image/png": "[encoded data removed]",
      "text/plain": [
       "<Figure size 1440x432 with 1 Axes>"
      ]
     },
     "metadata": {},
     "output_type": "display_data"
    }
   ],
   "source": [
    "fig, ax = plt.subplots()\n",
    "fig.set_size_inches(20, 6)\n",
    "\n",
    "max_time = min(normal_energy['time'].max(), mirai_energy['time'].max())\n",
    "\n",
    "ax.plot(normal_energy['time'], normal_energy['energy'], label='Measured energy usage')\n",
    "ax.plot(normal_network['Time'], normal_network['energy'], label='Packet energy usage')\n",
    "ax.set_title('Energy consumption of a normal device over time')\n",
    "ax.set_xlabel('Time (in seconds)')\n",
    "ax.set_ylabel('Energy consumption')\n",
    "ax.legend(loc=4, prop={'size': 12})\n",
    "ax.grid()"
   ]
  },
  {
   "cell_type": "markdown",
   "id": "4ca48b8c",
   "metadata": {},
   "source": [
    "## Protocol study"
   ]
  },
  {
   "cell_type": "code",
   "execution_count": 242,
   "id": "5ccee9e2",
   "metadata": {},
   "outputs": [
    {
     "name": "stdout",
     "output_type": "stream",
     "text": [
      "Protocols: ['DNS' 'ARP' 'DHCP' 'ICMP' 'TCP' 'TLSv1.2' 'NTP']\n"
     ]
    }
   ],
   "source": [
    "# normal_network = normal_network[normal_network.Protocol != 'ICMP']\n",
    "# mirai_network = mirai_network[mirai_network.Protocol != 'ICMP']\n",
    "\n",
    "print(\"Protocols:\", normal_network['Protocol'].unique())"
   ]
  },
  {
   "cell_type": "code",
   "execution_count": 243,
   "id": "91724dd9",
   "metadata": {},
   "outputs": [
    {
     "name": "stdout",
     "output_type": "stream",
     "text": [
      "Count of the packets of each protocol\n"
     ]
    },
    {
     "data": {
      "text/html": [
       "<div>\n",
       "<style scoped>\n",
       "    .dataframe tbody tr th:only-of-type {\n",
       "        vertical-align: middle;\n",
       "    }\n",
       "\n",
       "    .dataframe tbody tr th {\n",
       "        vertical-align: top;\n",
       "    }\n",
       "\n",
       "    .dataframe thead th {\n",
       "        text-align: right;\n",
       "    }\n",
       "</style>\n",
       "<table border=\"1\" class=\"dataframe\">\n",
       "  <thead>\n",
       "    <tr style=\"text-align: right;\">\n",
       "      <th></th>\n",
       "      <th>Normal</th>\n",
       "      <th>Mirai attack</th>\n",
       "    </tr>\n",
       "    <tr>\n",
       "      <th>Protocol</th>\n",
       "      <th></th>\n",
       "      <th></th>\n",
       "    </tr>\n",
       "  </thead>\n",
       "  <tbody>\n",
       "    <tr>\n",
       "      <th>ARP</th>\n",
       "      <td>178</td>\n",
       "      <td>200</td>\n",
       "    </tr>\n",
       "    <tr>\n",
       "      <th>DHCP</th>\n",
       "      <td>12</td>\n",
       "      <td>12</td>\n",
       "    </tr>\n",
       "    <tr>\n",
       "      <th>DNS</th>\n",
       "      <td>430</td>\n",
       "      <td>464</td>\n",
       "    </tr>\n",
       "    <tr>\n",
       "      <th>ICMP</th>\n",
       "      <td>1</td>\n",
       "      <td>244</td>\n",
       "    </tr>\n",
       "    <tr>\n",
       "      <th>NTP</th>\n",
       "      <td>4</td>\n",
       "      <td>4</td>\n",
       "    </tr>\n",
       "    <tr>\n",
       "      <th>TCP</th>\n",
       "      <td>32</td>\n",
       "      <td>437950</td>\n",
       "    </tr>\n",
       "    <tr>\n",
       "      <th>TLSv1.2</th>\n",
       "      <td>18</td>\n",
       "      <td>30</td>\n",
       "    </tr>\n",
       "  </tbody>\n",
       "</table>\n",
       "</div>"
      ],
      "text/plain": [
       "          Normal  Mirai attack\n",
       "Protocol                      \n",
       "ARP          178           200\n",
       "DHCP          12            12\n",
       "DNS          430           464\n",
       "ICMP           1           244\n",
       "NTP            4             4\n",
       "TCP           32        437950\n",
       "TLSv1.2       18            30"
      ]
     },
     "execution_count": 243,
     "metadata": {},
     "output_type": "execute_result"
    }
   ],
   "source": [
    "print(\"Count of the packets of each protocol\")\n",
    "df = pd.DataFrame()\n",
    "df['Normal'] = normal_network.groupby('Protocol').count()['Length']\n",
    "df['Mirai attack'] = mirai_network.groupby('Protocol').count()['Length']\n",
    "df"
   ]
  },
  {
   "cell_type": "code",
   "execution_count": 244,
   "id": "3e24d923",
   "metadata": {},
   "outputs": [
    {
     "data": {
      "text/plain": [
       "<AxesSubplot:title={'center':'Bar graph for each protocol in normal communications'}, ylabel='Count'>"
      ]
     },
     "execution_count": 244,
     "metadata": {},
     "output_type": "execute_result"
    },
    {
     "data": {
      "image/png": "[encoded data removed]",
      "text/plain": [
       "<Figure size 432x288 with 1 Axes>"
      ]
     },
     "metadata": {},
     "output_type": "display_data"
    }
   ],
   "source": [
    "normal_network['Protocol'].value_counts().plot.bar(title=\"Bar graph for each protocol in normal communications\", ylabel=\"Count\")"
   ]
  },
  {
   "cell_type": "code",
   "execution_count": 245,
   "id": "1dac4775",
   "metadata": {},
   "outputs": [],
   "source": [
    "# normal_network['TCP_Protocol'] = np.where(normal_network['Protocol'] == 'TCP', 1, 0)\n",
    "# mirai_network['TCP_Protocol'] = np.where(mirai_network['Protocol'] == 'TCP', 1, 0)"
   ]
  },
  {
   "cell_type": "markdown",
   "id": "2bd09907",
   "metadata": {},
   "source": [
    "## Getting data ready for the model"
   ]
  },
  {
   "cell_type": "code",
   "execution_count": 246,
   "id": "75b09c60",
   "metadata": {},
   "outputs": [
    {
     "data": {
      "text/html": [
       "<div>\n",
       "<style scoped>\n",
       "    .dataframe tbody tr th:only-of-type {\n",
       "        vertical-align: middle;\n",
       "    }\n",
       "\n",
       "    .dataframe tbody tr th {\n",
       "        vertical-align: top;\n",
       "    }\n",
       "\n",
       "    .dataframe thead th {\n",
       "        text-align: right;\n",
       "    }\n",
       "</style>\n",
       "<table border=\"1\" class=\"dataframe\">\n",
       "  <thead>\n",
       "    <tr style=\"text-align: right;\">\n",
       "      <th></th>\n",
       "      <th>Time</th>\n",
       "      <th>Length</th>\n",
       "      <th>energy</th>\n",
       "    </tr>\n",
       "  </thead>\n",
       "  <tbody>\n",
       "    <tr>\n",
       "      <th>Time</th>\n",
       "      <td>1.000000</td>\n",
       "      <td>-0.105717</td>\n",
       "      <td>0.104204</td>\n",
       "    </tr>\n",
       "    <tr>\n",
       "      <th>Length</th>\n",
       "      <td>-0.105717</td>\n",
       "      <td>1.000000</td>\n",
       "      <td>0.052379</td>\n",
       "    </tr>\n",
       "    <tr>\n",
       "      <th>energy</th>\n",
       "      <td>0.104204</td>\n",
       "      <td>0.052379</td>\n",
       "      <td>1.000000</td>\n",
       "    </tr>\n",
       "  </tbody>\n",
       "</table>\n",
       "</div>"
      ],
      "text/plain": [
       "            Time    Length    energy\n",
       "Time    1.000000 -0.105717  0.104204\n",
       "Length -0.105717  1.000000  0.052379\n",
       "energy  0.104204  0.052379  1.000000"
      ]
     },
     "execution_count": 246,
     "metadata": {},
     "output_type": "execute_result"
    }
   ],
   "source": [
    "normal_network.corr()"
   ]
  },
  {
   "cell_type": "code",
   "execution_count": 247,
   "id": "dfb0d20d",
   "metadata": {},
   "outputs": [
    {
     "data": {
      "text/html": [
       "<div>\n",
       "<style scoped>\n",
       "    .dataframe tbody tr th:only-of-type {\n",
       "        vertical-align: middle;\n",
       "    }\n",
       "\n",
       "    .dataframe tbody tr th {\n",
       "        vertical-align: top;\n",
       "    }\n",
       "\n",
       "    .dataframe thead th {\n",
       "        text-align: right;\n",
       "    }\n",
       "</style>\n",
       "<table border=\"1\" class=\"dataframe\">\n",
       "  <thead>\n",
       "    <tr style=\"text-align: right;\">\n",
       "      <th></th>\n",
       "      <th>Time</th>\n",
       "      <th>Source</th>\n",
       "      <th>Destination</th>\n",
       "      <th>Protocol</th>\n",
       "      <th>Length</th>\n",
       "      <th>energy</th>\n",
       "      <th>target</th>\n",
       "    </tr>\n",
       "  </thead>\n",
       "  <tbody>\n",
       "    <tr>\n",
       "      <th>0</th>\n",
       "      <td>0.000000</td>\n",
       "      <td>172.31.1.15</td>\n",
       "      <td>8.8.8.8</td>\n",
       "      <td>DNS</td>\n",
       "      <td>71</td>\n",
       "      <td>0.00</td>\n",
       "      <td>normal</td>\n",
       "    </tr>\n",
       "    <tr>\n",
       "      <th>1</th>\n",
       "      <td>0.020682</td>\n",
       "      <td>8.8.8.8</td>\n",
       "      <td>172.31.1.15</td>\n",
       "      <td>DNS</td>\n",
       "      <td>135</td>\n",
       "      <td>0.00</td>\n",
       "      <td>normal</td>\n",
       "    </tr>\n",
       "    <tr>\n",
       "      <th>2</th>\n",
       "      <td>5.002782</td>\n",
       "      <td>Tp-LinkT_81:9e:53</td>\n",
       "      <td>PcsCompu_73:1d:1d</td>\n",
       "      <td>ARP</td>\n",
       "      <td>60</td>\n",
       "      <td>0.14</td>\n",
       "      <td>normal</td>\n",
       "    </tr>\n",
       "    <tr>\n",
       "      <th>3</th>\n",
       "      <td>5.002810</td>\n",
       "      <td>PcsCompu_73:1d:1d</td>\n",
       "      <td>Tp-LinkT_81:9e:53</td>\n",
       "      <td>ARP</td>\n",
       "      <td>42</td>\n",
       "      <td>0.14</td>\n",
       "      <td>normal</td>\n",
       "    </tr>\n",
       "    <tr>\n",
       "      <th>4</th>\n",
       "      <td>5.053399</td>\n",
       "      <td>PcsCompu_73:1d:1d</td>\n",
       "      <td>Tp-LinkT_81:9e:53</td>\n",
       "      <td>ARP</td>\n",
       "      <td>42</td>\n",
       "      <td>0.14</td>\n",
       "      <td>normal</td>\n",
       "    </tr>\n",
       "    <tr>\n",
       "      <th>...</th>\n",
       "      <td>...</td>\n",
       "      <td>...</td>\n",
       "      <td>...</td>\n",
       "      <td>...</td>\n",
       "      <td>...</td>\n",
       "      <td>...</td>\n",
       "      <td>...</td>\n",
       "    </tr>\n",
       "    <tr>\n",
       "      <th>438901</th>\n",
       "      <td>1786.267402</td>\n",
       "      <td>172.31.0.17</td>\n",
       "      <td>172.31.1.15</td>\n",
       "      <td>TCP</td>\n",
       "      <td>74</td>\n",
       "      <td>0.28</td>\n",
       "      <td>mirai</td>\n",
       "    </tr>\n",
       "    <tr>\n",
       "      <th>438902</th>\n",
       "      <td>1786.267408</td>\n",
       "      <td>172.31.0.17</td>\n",
       "      <td>172.31.1.15</td>\n",
       "      <td>TCP</td>\n",
       "      <td>74</td>\n",
       "      <td>0.28</td>\n",
       "      <td>mirai</td>\n",
       "    </tr>\n",
       "    <tr>\n",
       "      <th>438903</th>\n",
       "      <td>1786.267413</td>\n",
       "      <td>172.31.0.17</td>\n",
       "      <td>172.31.1.15</td>\n",
       "      <td>TCP</td>\n",
       "      <td>74</td>\n",
       "      <td>0.28</td>\n",
       "      <td>mirai</td>\n",
       "    </tr>\n",
       "    <tr>\n",
       "      <th>438904</th>\n",
       "      <td>1786.267417</td>\n",
       "      <td>172.31.0.17</td>\n",
       "      <td>172.31.1.15</td>\n",
       "      <td>TCP</td>\n",
       "      <td>74</td>\n",
       "      <td>0.28</td>\n",
       "      <td>mirai</td>\n",
       "    </tr>\n",
       "    <tr>\n",
       "      <th>438905</th>\n",
       "      <td>1790.176975</td>\n",
       "      <td>172.31.0.17</td>\n",
       "      <td>172.31.1.15</td>\n",
       "      <td>TCP</td>\n",
       "      <td>74</td>\n",
       "      <td>0.28</td>\n",
       "      <td>mirai</td>\n",
       "    </tr>\n",
       "  </tbody>\n",
       "</table>\n",
       "<p>439581 rows × 7 columns</p>\n",
       "</div>"
      ],
      "text/plain": [
       "               Time             Source        Destination Protocol  Length  \\\n",
       "0          0.000000        172.31.1.15            8.8.8.8      DNS      71   \n",
       "1          0.020682            8.8.8.8        172.31.1.15      DNS     135   \n",
       "2          5.002782  Tp-LinkT_81:9e:53  PcsCompu_73:1d:1d      ARP      60   \n",
       "3          5.002810  PcsCompu_73:1d:1d  Tp-LinkT_81:9e:53      ARP      42   \n",
       "4          5.053399  PcsCompu_73:1d:1d  Tp-LinkT_81:9e:53      ARP      42   \n",
       "...             ...                ...                ...      ...     ...   \n",
       "438901  1786.267402        172.31.0.17        172.31.1.15      TCP      74   \n",
       "438902  1786.267408        172.31.0.17        172.31.1.15      TCP      74   \n",
       "438903  1786.267413        172.31.0.17        172.31.1.15      TCP      74   \n",
       "438904  1786.267417        172.31.0.17        172.31.1.15      TCP      74   \n",
       "438905  1790.176975        172.31.0.17        172.31.1.15      TCP      74   \n",
       "\n",
       "        energy  target  \n",
       "0         0.00  normal  \n",
       "1         0.00  normal  \n",
       "2         0.14  normal  \n",
       "3         0.14  normal  \n",
       "4         0.14  normal  \n",
       "...        ...     ...  \n",
       "438901    0.28   mirai  \n",
       "438902    0.28   mirai  \n",
       "438903    0.28   mirai  \n",
       "438904    0.28   mirai  \n",
       "438905    0.28   mirai  \n",
       "\n",
       "[439581 rows x 7 columns]"
      ]
     },
     "execution_count": 247,
     "metadata": {},
     "output_type": "execute_result"
    }
   ],
   "source": [
    "Final_merge = normal_network.append(mirai_network)\n",
    "Final_merge"
   ]
  },
  {
   "cell_type": "code",
   "execution_count": 248,
   "id": "f017f03d",
   "metadata": {},
   "outputs": [
    {
     "data": {
      "text/html": [
       "<div>\n",
       "<style scoped>\n",
       "    .dataframe tbody tr th:only-of-type {\n",
       "        vertical-align: middle;\n",
       "    }\n",
       "\n",
       "    .dataframe tbody tr th {\n",
       "        vertical-align: top;\n",
       "    }\n",
       "\n",
       "    .dataframe thead th {\n",
       "        text-align: right;\n",
       "    }\n",
       "</style>\n",
       "<table border=\"1\" class=\"dataframe\">\n",
       "  <thead>\n",
       "    <tr style=\"text-align: right;\">\n",
       "      <th></th>\n",
       "      <th>Time</th>\n",
       "      <th>Source</th>\n",
       "      <th>Destination</th>\n",
       "      <th>Length</th>\n",
       "      <th>energy</th>\n",
       "      <th>target</th>\n",
       "    </tr>\n",
       "    <tr>\n",
       "      <th>Protocol</th>\n",
       "      <th></th>\n",
       "      <th></th>\n",
       "      <th></th>\n",
       "      <th></th>\n",
       "      <th></th>\n",
       "      <th></th>\n",
       "    </tr>\n",
       "  </thead>\n",
       "  <tbody>\n",
       "    <tr>\n",
       "      <th>ARP</th>\n",
       "      <td>378</td>\n",
       "      <td>378</td>\n",
       "      <td>378</td>\n",
       "      <td>378</td>\n",
       "      <td>378</td>\n",
       "      <td>378</td>\n",
       "    </tr>\n",
       "    <tr>\n",
       "      <th>DHCP</th>\n",
       "      <td>24</td>\n",
       "      <td>24</td>\n",
       "      <td>24</td>\n",
       "      <td>24</td>\n",
       "      <td>24</td>\n",
       "      <td>24</td>\n",
       "    </tr>\n",
       "    <tr>\n",
       "      <th>DNS</th>\n",
       "      <td>894</td>\n",
       "      <td>894</td>\n",
       "      <td>894</td>\n",
       "      <td>894</td>\n",
       "      <td>894</td>\n",
       "      <td>894</td>\n",
       "    </tr>\n",
       "    <tr>\n",
       "      <th>ICMP</th>\n",
       "      <td>245</td>\n",
       "      <td>245</td>\n",
       "      <td>245</td>\n",
       "      <td>245</td>\n",
       "      <td>245</td>\n",
       "      <td>245</td>\n",
       "    </tr>\n",
       "    <tr>\n",
       "      <th>ICMPv6</th>\n",
       "      <td>2</td>\n",
       "      <td>2</td>\n",
       "      <td>2</td>\n",
       "      <td>2</td>\n",
       "      <td>2</td>\n",
       "      <td>2</td>\n",
       "    </tr>\n",
       "    <tr>\n",
       "      <th>NTP</th>\n",
       "      <td>8</td>\n",
       "      <td>8</td>\n",
       "      <td>8</td>\n",
       "      <td>8</td>\n",
       "      <td>8</td>\n",
       "      <td>8</td>\n",
       "    </tr>\n",
       "    <tr>\n",
       "      <th>TCP</th>\n",
       "      <td>437982</td>\n",
       "      <td>437982</td>\n",
       "      <td>437982</td>\n",
       "      <td>437982</td>\n",
       "      <td>437982</td>\n",
       "      <td>437982</td>\n",
       "    </tr>\n",
       "    <tr>\n",
       "      <th>TLSv1.2</th>\n",
       "      <td>48</td>\n",
       "      <td>48</td>\n",
       "      <td>48</td>\n",
       "      <td>48</td>\n",
       "      <td>48</td>\n",
       "      <td>48</td>\n",
       "    </tr>\n",
       "  </tbody>\n",
       "</table>\n",
       "</div>"
      ],
      "text/plain": [
       "            Time  Source  Destination  Length  energy  target\n",
       "Protocol                                                     \n",
       "ARP          378     378          378     378     378     378\n",
       "DHCP          24      24           24      24      24      24\n",
       "DNS          894     894          894     894     894     894\n",
       "ICMP         245     245          245     245     245     245\n",
       "ICMPv6         2       2            2       2       2       2\n",
       "NTP            8       8            8       8       8       8\n",
       "TCP       437982  437982       437982  437982  437982  437982\n",
       "TLSv1.2       48      48           48      48      48      48"
      ]
     },
     "execution_count": 248,
     "metadata": {},
     "output_type": "execute_result"
    }
   ],
   "source": [
    "Final_merge.groupby('Protocol').count()"
   ]
  },
  {
   "cell_type": "code",
   "execution_count": 249,
   "id": "0a9578fc",
   "metadata": {},
   "outputs": [],
   "source": [
    "Final_merge = Final_merge[Final_merge.Protocol != 0]"
   ]
  },
  {
   "cell_type": "code",
   "execution_count": 250,
   "id": "36c438be",
   "metadata": {},
   "outputs": [],
   "source": [
    "# protocol_type feature mapping\n",
    "dic_protocoles = {'DNS':0, 'ARP':1, 'DHCP':2, 'ICMP':3, 'TCP':4, 'TLSv1.2':5, 'NTP':6, 'ICMPv6':7}\n",
    "Final_merge['Protocol'] = Final_merge['Protocol'].map(dic_protocoles)"
   ]
  },
  {
   "cell_type": "code",
   "execution_count": 251,
   "id": "620ae53e",
   "metadata": {},
   "outputs": [],
   "source": [
    "le = preprocessing.LabelEncoder()\n",
    "Final_merge['Source'] = le.fit_transform(Final_merge.Source.values)\n",
    "Final_merge['Destination'] = le.fit_transform(Final_merge.Destination.values)"
   ]
  },
  {
   "cell_type": "code",
   "execution_count": 252,
   "id": "f0a30c0e",
   "metadata": {},
   "outputs": [],
   "source": [
    "dic_attacks = {'normal':0, 'mirai':1}\n",
    "Final_merge['target'] = Final_merge['target'].map(dic_attacks)"
   ]
  },
  {
   "cell_type": "code",
   "execution_count": 253,
   "id": "e8db7d48",
   "metadata": {},
   "outputs": [
    {
     "data": {
      "text/html": [
       "<div>\n",
       "<style scoped>\n",
       "    .dataframe tbody tr th:only-of-type {\n",
       "        vertical-align: middle;\n",
       "    }\n",
       "\n",
       "    .dataframe tbody tr th {\n",
       "        vertical-align: top;\n",
       "    }\n",
       "\n",
       "    .dataframe thead th {\n",
       "        text-align: right;\n",
       "    }\n",
       "</style>\n",
       "<table border=\"1\" class=\"dataframe\">\n",
       "  <thead>\n",
       "    <tr style=\"text-align: right;\">\n",
       "      <th></th>\n",
       "      <th>Time</th>\n",
       "      <th>Source</th>\n",
       "      <th>Destination</th>\n",
       "      <th>Protocol</th>\n",
       "      <th>Length</th>\n",
       "      <th>energy</th>\n",
       "      <th>target</th>\n",
       "    </tr>\n",
       "  </thead>\n",
       "  <tbody>\n",
       "    <tr>\n",
       "      <th>0</th>\n",
       "      <td>0.000000</td>\n",
       "      <td>7</td>\n",
       "      <td>12</td>\n",
       "      <td>0</td>\n",
       "      <td>71</td>\n",
       "      <td>0.00</td>\n",
       "      <td>0</td>\n",
       "    </tr>\n",
       "    <tr>\n",
       "      <th>1</th>\n",
       "      <td>0.020682</td>\n",
       "      <td>12</td>\n",
       "      <td>6</td>\n",
       "      <td>0</td>\n",
       "      <td>135</td>\n",
       "      <td>0.00</td>\n",
       "      <td>0</td>\n",
       "    </tr>\n",
       "    <tr>\n",
       "      <th>2</th>\n",
       "      <td>5.002782</td>\n",
       "      <td>14</td>\n",
       "      <td>14</td>\n",
       "      <td>1</td>\n",
       "      <td>60</td>\n",
       "      <td>0.14</td>\n",
       "      <td>0</td>\n",
       "    </tr>\n",
       "    <tr>\n",
       "      <th>3</th>\n",
       "      <td>5.002810</td>\n",
       "      <td>13</td>\n",
       "      <td>15</td>\n",
       "      <td>1</td>\n",
       "      <td>42</td>\n",
       "      <td>0.14</td>\n",
       "      <td>0</td>\n",
       "    </tr>\n",
       "    <tr>\n",
       "      <th>4</th>\n",
       "      <td>5.053399</td>\n",
       "      <td>13</td>\n",
       "      <td>15</td>\n",
       "      <td>1</td>\n",
       "      <td>42</td>\n",
       "      <td>0.14</td>\n",
       "      <td>0</td>\n",
       "    </tr>\n",
       "    <tr>\n",
       "      <th>...</th>\n",
       "      <td>...</td>\n",
       "      <td>...</td>\n",
       "      <td>...</td>\n",
       "      <td>...</td>\n",
       "      <td>...</td>\n",
       "      <td>...</td>\n",
       "      <td>...</td>\n",
       "    </tr>\n",
       "    <tr>\n",
       "      <th>438901</th>\n",
       "      <td>1786.267402</td>\n",
       "      <td>5</td>\n",
       "      <td>6</td>\n",
       "      <td>4</td>\n",
       "      <td>74</td>\n",
       "      <td>0.28</td>\n",
       "      <td>1</td>\n",
       "    </tr>\n",
       "    <tr>\n",
       "      <th>438902</th>\n",
       "      <td>1786.267408</td>\n",
       "      <td>5</td>\n",
       "      <td>6</td>\n",
       "      <td>4</td>\n",
       "      <td>74</td>\n",
       "      <td>0.28</td>\n",
       "      <td>1</td>\n",
       "    </tr>\n",
       "    <tr>\n",
       "      <th>438903</th>\n",
       "      <td>1786.267413</td>\n",
       "      <td>5</td>\n",
       "      <td>6</td>\n",
       "      <td>4</td>\n",
       "      <td>74</td>\n",
       "      <td>0.28</td>\n",
       "      <td>1</td>\n",
       "    </tr>\n",
       "    <tr>\n",
       "      <th>438904</th>\n",
       "      <td>1786.267417</td>\n",
       "      <td>5</td>\n",
       "      <td>6</td>\n",
       "      <td>4</td>\n",
       "      <td>74</td>\n",
       "      <td>0.28</td>\n",
       "      <td>1</td>\n",
       "    </tr>\n",
       "    <tr>\n",
       "      <th>438905</th>\n",
       "      <td>1790.176975</td>\n",
       "      <td>5</td>\n",
       "      <td>6</td>\n",
       "      <td>4</td>\n",
       "      <td>74</td>\n",
       "      <td>0.28</td>\n",
       "      <td>1</td>\n",
       "    </tr>\n",
       "  </tbody>\n",
       "</table>\n",
       "<p>439581 rows × 7 columns</p>\n",
       "</div>"
      ],
      "text/plain": [
       "               Time  Source  Destination  Protocol  Length  energy  target\n",
       "0          0.000000       7           12         0      71    0.00       0\n",
       "1          0.020682      12            6         0     135    0.00       0\n",
       "2          5.002782      14           14         1      60    0.14       0\n",
       "3          5.002810      13           15         1      42    0.14       0\n",
       "4          5.053399      13           15         1      42    0.14       0\n",
       "...             ...     ...          ...       ...     ...     ...     ...\n",
       "438901  1786.267402       5            6         4      74    0.28       1\n",
       "438902  1786.267408       5            6         4      74    0.28       1\n",
       "438903  1786.267413       5            6         4      74    0.28       1\n",
       "438904  1786.267417       5            6         4      74    0.28       1\n",
       "438905  1790.176975       5            6         4      74    0.28       1\n",
       "\n",
       "[439581 rows x 7 columns]"
      ]
     },
     "execution_count": 253,
     "metadata": {},
     "output_type": "execute_result"
    }
   ],
   "source": [
    "Final_merge"
   ]
  },
  {
   "cell_type": "code",
   "execution_count": 254,
   "id": "ec2d7da0",
   "metadata": {},
   "outputs": [],
   "source": [
    "Final_merge.to_csv('QRS_dataset/FinalSet.csv')"
   ]
  },
  {
   "cell_type": "markdown",
   "id": "d0b6ae40",
   "metadata": {},
   "source": [
    "## Random Forest"
   ]
  },
  {
   "cell_type": "code",
   "execution_count": 255,
   "id": "7925be47",
   "metadata": {},
   "outputs": [],
   "source": [
    "def entropy(y):\n",
    "    hist = np.bincount(y['target'])\n",
    "    ps = hist / len(y)\n",
    "    return -np.sum([p * np.log2(p) for p in ps if p > 0])"
   ]
  },
  {
   "cell_type": "code",
   "execution_count": 256,
   "id": "78d473ea",
   "metadata": {
    "scrolled": true
   },
   "outputs": [],
   "source": [
    "class Node:\n",
    "\n",
    "    def __init__(self, feature=None, threshold=None, left=None, right=None, *, value=None):\n",
    "        self.feature = feature\n",
    "        self.threshold = threshold\n",
    "        self.left = left\n",
    "        self.right = right\n",
    "        self.value = value\n",
    "\n",
    "    def is_leaf_node(self):\n",
    "        return self.value is not None"
   ]
  },
  {
   "cell_type": "code",
   "execution_count": 257,
   "id": "2cf57771",
   "metadata": {},
   "outputs": [],
   "source": [
    "class DecisionTree:\n",
    "\n",
    "    def __init__(self, min_samples_split=2, max_depth=100, n_feats=None):\n",
    "        self.min_samples_split = min_samples_split\n",
    "        self.max_depth = max_depth\n",
    "        self.n_feats = n_feats\n",
    "        self.root = None\n",
    "\n",
    "    def fit(self, X, y):\n",
    "        self.n_feats = X.shape[1] if not self.n_feats else min(self.n_feats, X.shape[1])\n",
    "        self.root = self._grow_tree(X, y)\n",
    "\n",
    "    def predict(self, X):\n",
    "        return np.array([self._traverse_tree(X.iloc[i], self.root) for i in range(X.shape[0])])\n",
    "        #return np.array([self._traverse_tree(x, self.root) for x in X])\n",
    "\n",
    "    def _grow_tree(self, X, y, depth=0):\n",
    "        n_samples, n_features = X.shape\n",
    "        n_labels = len(np.unique(y))\n",
    "\n",
    "        # stopping criteria\n",
    "        if (depth >= self.max_depth\n",
    "                or n_labels == 1\n",
    "                or n_samples < self.min_samples_split):\n",
    "            leaf_value = self._most_common_label(y)\n",
    "            return Node(value=leaf_value)\n",
    "\n",
    "        feat_idxs = np.random.choice(n_features, self.n_feats, replace=False)\n",
    "\n",
    "        # greedily select the best split according to information gain\n",
    "        best_feat, best_thresh = self._best_criteria(X, y, feat_idxs)\n",
    "        \n",
    "        # grow the children that result from the split\n",
    "        left_idxs, right_idxs = self._split(X.iloc[:, best_feat], best_thresh)\n",
    "        left = self._grow_tree(X.iloc[left_idxs, :], y.iloc[left_idxs], depth+1)\n",
    "        right = self._grow_tree(X.iloc[right_idxs, :], y.iloc[right_idxs], depth+1)\n",
    "        return Node(best_feat, best_thresh, left, right)\n",
    "\n",
    "    def _best_criteria(self, X, y, feat_idxs):\n",
    "        best_gain = -1\n",
    "        split_idx, split_thresh = None, None\n",
    "        for feat_idx in feat_idxs:\n",
    "            X_column = X.iloc[:, feat_idx]\n",
    "            thresholds = np.unique(X_column)\n",
    "            for threshold in thresholds:\n",
    "                gain = self._information_gain(y, X_column, threshold)\n",
    "\n",
    "                if gain > best_gain:\n",
    "                    best_gain = gain\n",
    "                    split_idx = feat_idx\n",
    "                    split_thresh = threshold\n",
    "\n",
    "        return split_idx, split_thresh\n",
    "\n",
    "    def _information_gain(self, y, X_column, split_thresh):\n",
    "        # parent loss\n",
    "        parent_entropy = entropy(y)\n",
    "\n",
    "        # generate split\n",
    "        left_idxs, right_idxs = self._split(X_column, split_thresh)\n",
    "\n",
    "        if len(left_idxs) == 0 or len(right_idxs) == 0:\n",
    "            return 0\n",
    "\n",
    "        # compute the weighted avg. of the loss for the children\n",
    "        n = len(y)\n",
    "        n_l, n_r = len(left_idxs), len(right_idxs)\n",
    "        e_l, e_r = entropy(y.iloc[left_idxs]), entropy(y.iloc[right_idxs])\n",
    "        child_entropy = (n_l / n) * e_l + (n_r / n) * e_r\n",
    "\n",
    "        # information gain is difference in loss before vs. after split\n",
    "        ig = parent_entropy - child_entropy\n",
    "        return ig\n",
    "\n",
    "    def _split(self, X_column, split_thresh):\n",
    "        left_idxs = np.argwhere(X_column.values <= split_thresh).flatten()\n",
    "        right_idxs = np.argwhere(X_column.values > split_thresh).flatten()\n",
    "        return left_idxs, right_idxs\n",
    "\n",
    "    def _traverse_tree(self, x, node):\n",
    "        if node.is_leaf_node():\n",
    "            return node.value\n",
    "\n",
    "        if x[node.feature] <= node.threshold:\n",
    "            return self._traverse_tree(x, node.left)\n",
    "        return self._traverse_tree(x, node.right)\n",
    "\n",
    "    def _most_common_label(self, y):\n",
    "        counter = Counter(y)\n",
    "        most_common = counter.most_common(1)[0][0]\n",
    "        return most_common"
   ]
  },
  {
   "cell_type": "code",
   "execution_count": 258,
   "id": "3be6c73e",
   "metadata": {},
   "outputs": [],
   "source": [
    "def bootstrap_sample(X, y):\n",
    "    n_samples = X.shape[0]\n",
    "    idxs = np.random.choice(n_samples, n_samples, replace=True)\n",
    "    return X.iloc[idxs], y.iloc[idxs]"
   ]
  },
  {
   "cell_type": "code",
   "execution_count": 259,
   "id": "681024d7",
   "metadata": {},
   "outputs": [],
   "source": [
    "def most_common_label(y):\n",
    "    counter = Counter(y)\n",
    "    most_common = counter.most_common(1)[0][0]\n",
    "    return most_common"
   ]
  },
  {
   "cell_type": "code",
   "execution_count": 260,
   "id": "b1304758",
   "metadata": {},
   "outputs": [],
   "source": [
    "class RandomForest:\n",
    "    \n",
    "    def __init__(self, n_trees=10, min_samples_split=2,\n",
    "                 max_depth=100, n_feats=None):\n",
    "        self.n_trees = n_trees\n",
    "        self.min_samples_split = min_samples_split\n",
    "        self.max_depth = max_depth\n",
    "        self.n_feats = n_feats\n",
    "        self.trees = []\n",
    "\n",
    "    def fit(self, X, y):\n",
    "        self.trees = []\n",
    "        for _ in range(self.n_trees):\n",
    "            tree = DecisionTree(min_samples_split=self.min_samples_split,\n",
    "                max_depth=self.max_depth, n_feats=self.n_feats)\n",
    "            X_samp, y_samp = bootstrap_sample(X, y)\n",
    "            tree.fit(X_samp, y_samp)\n",
    "            self.trees.append(tree)\n",
    "\n",
    "    def predict(self, X):\n",
    "        tree_preds = np.array([tree.predict(X) for tree in self.trees])\n",
    "        tree_preds = np.swapaxes(tree_preds, 0, 1)\n",
    "        y_pred = [most_common_label(tree_pred) for tree_pred in tree_preds]\n",
    "        return np.array(y_pred)"
   ]
  },
  {
   "cell_type": "markdown",
   "id": "d2caa96e",
   "metadata": {},
   "source": [
    "## Random Forest evaluation"
   ]
  },
  {
   "cell_type": "code",
   "execution_count": 261,
   "id": "b3aa97e7",
   "metadata": {},
   "outputs": [
    {
     "name": "stdout",
     "output_type": "stream",
     "text": [
      "Train size: 175832\n",
      "Test size:  263749\n"
     ]
    }
   ],
   "source": [
    "# Target variable and train set\n",
    "y = Final_merge[['target']]\n",
    "X = Final_merge.drop(['target', ], axis = 1)\n",
    "\n",
    "# Split test and train data \n",
    "X_train, X_test, y_train, y_test = train_test_split(X, y, test_size = 0.6, random_state = 42)\n",
    "print('Train size:', X_train.shape[0])\n",
    "print('Test size: ', X_test.shape[0])"
   ]
  },
  {
   "cell_type": "code",
   "execution_count": 262,
   "id": "5e951ee0",
   "metadata": {},
   "outputs": [
    {
     "data": {
      "text/plain": [
       "RandomForestClassifier(n_estimators=5)"
      ]
     },
     "execution_count": 262,
     "metadata": {},
     "output_type": "execute_result"
    }
   ],
   "source": [
    "use_hand_made_random_forest = False\n",
    "\n",
    "if use_hand_made_random_forest:\n",
    "    clf = RandomForest(n_trees = 5)\n",
    "else:\n",
    "    clf = RandomForestClassifier(5)\n",
    "\n",
    "clf.fit(X_train, y_train['target'])"
   ]
  },
  {
   "cell_type": "code",
   "execution_count": 263,
   "id": "d2ed428a",
   "metadata": {},
   "outputs": [
    {
     "name": "stdout",
     "output_type": "stream",
     "text": [
      "Original mirai packet share: 0.9984644468254997\n",
      "Score: 0.9999848340657216\n"
     ]
    },
    {
     "data": {
      "text/html": [
       "<div>\n",
       "<style scoped>\n",
       "    .dataframe tbody tr th:only-of-type {\n",
       "        vertical-align: middle;\n",
       "    }\n",
       "\n",
       "    .dataframe tbody tr th {\n",
       "        vertical-align: top;\n",
       "    }\n",
       "\n",
       "    .dataframe thead th {\n",
       "        text-align: right;\n",
       "    }\n",
       "</style>\n",
       "<table border=\"1\" class=\"dataframe\">\n",
       "  <thead>\n",
       "    <tr style=\"text-align: right;\">\n",
       "      <th></th>\n",
       "      <th>predicted</th>\n",
       "      <th>actual</th>\n",
       "    </tr>\n",
       "  </thead>\n",
       "  <tbody>\n",
       "    <tr>\n",
       "      <th>normal</th>\n",
       "      <td>400</td>\n",
       "      <td>402</td>\n",
       "    </tr>\n",
       "    <tr>\n",
       "      <th>mirai</th>\n",
       "      <td>263349</td>\n",
       "      <td>263347</td>\n",
       "    </tr>\n",
       "  </tbody>\n",
       "</table>\n",
       "</div>"
      ],
      "text/plain": [
       "        predicted  actual\n",
       "normal        400     402\n",
       "mirai      263349  263347"
      ]
     },
     "execution_count": 263,
     "metadata": {},
     "output_type": "execute_result"
    }
   ],
   "source": [
    "print(\"Original mirai packet share:\", mirai_network.shape[0]/(normal_network.shape[0]+mirai_network.shape[0]))\n",
    "\n",
    "print(\"Score:\", clf.score(X_test, y_test))\n",
    "\n",
    "y_pred = clf.predict(X_test)\n",
    "\n",
    "dic_attacks_inv = {v:k for v,k in enumerate(dic_attacks)}\n",
    "\n",
    "unique, counts = np.unique(y_pred, return_counts=True)\n",
    "unique = [dic_attacks_inv[u] for u in unique]\n",
    "df = pd.DataFrame(index=unique)\n",
    "df['predicted'] = counts\n",
    "unique, counts = np.unique(y_test, return_counts=True)\n",
    "df['actual'] = counts\n",
    "df"
   ]
  },
  {
   "cell_type": "code",
   "execution_count": 264,
   "id": "907b2a1a",
   "metadata": {},
   "outputs": [
    {
     "data": {
      "text/plain": [
       "array([0.99861589, 1.        , 1.        , 1.        , 1.        ,\n",
       "       1.        , 1.        , 1.        , 1.        , 1.        ])"
      ]
     },
     "execution_count": 264,
     "metadata": {},
     "output_type": "execute_result"
    }
   ],
   "source": [
    "clf_cv_score = cross_val_score(clf, X, y['target'], cv=10, scoring='roc_auc')\n",
    "clf_cv_score"
   ]
  },
  {
   "cell_type": "code",
   "execution_count": 265,
   "id": "875fc0a7",
   "metadata": {},
   "outputs": [
    {
     "name": "stdout",
     "output_type": "stream",
     "text": [
      "=================== Confusion Matrix ======================\n",
      "[[   399      3]\n",
      " [     1 263346]]\n",
      "\n",
      "\n",
      "=================== Classification Report =================\n",
      "              precision    recall  f1-score   support\n",
      "\n",
      "           0       1.00      0.99      1.00       402\n",
      "           1       1.00      1.00      1.00    263347\n",
      "\n",
      "    accuracy                           1.00    263749\n",
      "   macro avg       1.00      1.00      1.00    263749\n",
      "weighted avg       1.00      1.00      1.00    263749\n",
      "\n",
      "\n",
      "\n",
      "=================== All AUC Scores =======================\n",
      "[0.99861589 1.         1.         1.         1.         1.\n",
      " 1.         1.         1.         1.        ]\n",
      "\n",
      "\n",
      "=================== Mean AUC Score =======================\n",
      "Mean AUC Score - Random Forest:  0.9998615889362285\n"
     ]
    }
   ],
   "source": [
    "print(\"=================== Confusion Matrix ======================\")\n",
    "print(metrics.confusion_matrix(y_test, y_pred))\n",
    "print('\\n') \n",
    "print(\"=================== Classification Report =================\")\n",
    "print(metrics.classification_report(y_test, y_pred))\n",
    "print('\\n') \n",
    "print(\"=================== All AUC Scores =======================\")\n",
    "print(clf_cv_score)\n",
    "print('\\n') \n",
    "print(\"=================== Mean AUC Score =======================\")\n",
    "print(\"Mean AUC Score - Random Forest: \", clf_cv_score.mean())"
   ]
  },
  {
   "cell_type": "code",
   "execution_count": 266,
   "id": "4e3a1538",
   "metadata": {},
   "outputs": [
    {
     "data": {
      "text/plain": [
       "[DecisionTreeClassifier(max_features='auto', random_state=972455474),\n",
       " DecisionTreeClassifier(max_features='auto', random_state=781397573),\n",
       " DecisionTreeClassifier(max_features='auto', random_state=1206014350),\n",
       " DecisionTreeClassifier(max_features='auto', random_state=1563406553),\n",
       " DecisionTreeClassifier(max_features='auto', random_state=1278630395)]"
      ]
     },
     "execution_count": 266,
     "metadata": {},
     "output_type": "execute_result"
    }
   ],
   "source": [
    "clf.estimators_"
   ]
  },
  {
   "cell_type": "code",
   "execution_count": 267,
   "id": "b1a37d8a",
   "metadata": {},
   "outputs": [],
   "source": [
    "estimator = clf.estimators_[-1]"
   ]
  },
  {
   "cell_type": "code",
   "execution_count": 268,
   "id": "8c2e5ba9",
   "metadata": {},
   "outputs": [
    {
     "name": "stdout",
     "output_type": "stream",
     "text": [
      "Score list: [8.37216346e+03 1.34653306e+03 6.83566397e+02 7.30046739e+02\n",
      " 4.21591787e+03 3.50055064e+00]\n",
      "Feature list: Index(['Time', 'Source', 'Destination', 'Protocol', 'Length', 'energy'], dtype='object')\n"
     ]
    }
   ],
   "source": [
    "# find best scored 5 features\n",
    "select_feature = SelectKBest(chi2, k=5).fit(X_train, y_train)\n",
    "print('Score list:', select_feature.scores_)\n",
    "print('Feature list:', X_train.columns)"
   ]
  },
  {
   "cell_type": "code",
   "execution_count": 269,
   "id": "9fbd11bc",
   "metadata": {},
   "outputs": [
    {
     "name": "stdout",
     "output_type": "stream",
     "text": [
      "Optimal number of features : 1\n",
      "Best features : Index(['energy'], dtype='object')\n"
     ]
    }
   ],
   "source": [
    "# The \"accuracy\" scoring is proportional to the number of correct classifications\n",
    "clf_rf_4 = RandomForestClassifier(5) \n",
    "rfecv = RFECV(estimator=clf_rf_4, step=1, cv=5,scoring='accuracy')   #5-fold cross-validation\n",
    "rfecv = rfecv.fit(X_train, y_train['target'])\n",
    "\n",
    "print('Optimal number of features :', rfecv.n_features_)\n",
    "print('Best features :', X_train.columns[rfecv.support_])"
   ]
  },
  {
   "cell_type": "code",
   "execution_count": 270,
   "id": "8a00d761",
   "metadata": {},
   "outputs": [
    {
     "name": "stderr",
     "output_type": "stream",
     "text": [
      "/home/alexis/.local/lib/python3.8/site-packages/sklearn/utils/deprecation.py:103: FutureWarning: The `grid_scores_` attribute is deprecated in version 1.0 in favor of `cv_results_` and will be removed in version 1.2.\n",
      "  warnings.warn(msg, category=FutureWarning)\n"
     ]
    },
    {
     "data": {
      "text/plain": [
       "array([[0.99997156, 1.        , 1.        , 1.        , 0.99997156],\n",
       "       [0.99994313, 0.99997156, 1.        , 0.99994313, 0.99994313],\n",
       "       [0.99994313, 0.99997156, 1.        , 0.99985782, 0.99997156],\n",
       "       [0.99997156, 1.        , 1.        , 1.        , 0.99994313],\n",
       "       [0.99997156, 1.        , 0.99997156, 1.        , 0.99997156],\n",
       "       [0.99997156, 0.99997156, 1.        , 0.99991469, 1.        ]])"
      ]
     },
     "execution_count": 270,
     "metadata": {},
     "output_type": "execute_result"
    }
   ],
   "source": [
    "rfecv.grid_scores_"
   ]
  },
  {
   "cell_type": "code",
   "execution_count": 271,
   "id": "79bc121b",
   "metadata": {},
   "outputs": [
    {
     "data": {
      "image/png": "[encoded data removed]",
      "text/plain": [
       "<Figure size 432x288 with 1 Axes>"
      ]
     },
     "metadata": {},
     "output_type": "display_data"
    }
   ],
   "source": [
    "plt.figure()\n",
    "plt.xlabel(\"Number of features selected\")\n",
    "plt.ylabel(\"Cross validation score of number of selected features\")\n",
    "plt.plot(range(1, len(rfecv.grid_scores_) + 1), rfecv.grid_scores_)\n",
    "plt.show()"
   ]
  },
  {
   "cell_type": "code",
   "execution_count": 272,
   "id": "65318b7b",
   "metadata": {},
   "outputs": [
    {
     "name": "stderr",
     "output_type": "stream",
     "text": [
      "/tmp/ipykernel_1141/2956762683.py:2: DataConversionWarning: A column-vector y was passed when a 1d array was expected. Please change the shape of y to (n_samples,), for example using ravel().\n",
      "  clr_rf_5 = clf_rf_5.fit(X_train,y_train)\n"
     ]
    },
    {
     "name": "stdout",
     "output_type": "stream",
     "text": [
      "Feature ranking:\n",
      "1. feature 5 (0.751962)\n",
      "2. feature 3 (0.097429)\n",
      "3. feature 1 (0.082225)\n",
      "4. feature 0 (0.057026)\n",
      "5. feature 4 (0.008580)\n",
      "6. feature 2 (0.002778)\n"
     ]
    },
    {
     "data": {
      "image/png": "[encoded data removed]",
      "text/plain": [
       "<Figure size 720x576 with 1 Axes>"
      ]
     },
     "metadata": {},
     "output_type": "display_data"
    },
    {
     "data": {
      "text/plain": [
       "<Figure size 432x288 with 0 Axes>"
      ]
     },
     "metadata": {},
     "output_type": "display_data"
    }
   ],
   "source": [
    "clf_rf_5 = RandomForestClassifier(5)\n",
    "clr_rf_5 = clf_rf_5.fit(X_train,y_train)\n",
    "importances = clr_rf_5.feature_importances_\n",
    "std = np.std([tree.feature_importances_ for tree in clf.estimators_],\n",
    "             axis=0)\n",
    "indices = np.argsort(importances)[::-1]\n",
    "\n",
    "# Print the feature ranking\n",
    "print(\"Feature ranking:\")\n",
    "\n",
    "for f in range(X_train.shape[1]):\n",
    "    print(\"%d. feature %d (%f)\" % (f + 1, indices[f], importances[indices[f]]))\n",
    "\n",
    "# Plot the feature importances of the forest\n",
    "\n",
    "plt.figure(1, figsize=(10, 8))\n",
    "plt.title(\"Feature importances\")\n",
    "plt.bar(range(X_train.shape[1]), importances[indices],\n",
    "       color=\"g\", yerr=std[indices], align=\"center\")\n",
    "plt.xticks(range(X_train.shape[1]), X_train.columns[indices],rotation=90)\n",
    "plt.xlim([-1, X_train.shape[1]])\n",
    "plt.show()\n",
    "#plt.savefig('books_read.png')"
   ]
  },
  {
   "cell_type": "markdown",
   "id": "f84defa1",
   "metadata": {},
   "source": [
    "## Federated"
   ]
  },
  {
   "cell_type": "code",
   "execution_count": null,
   "id": "9280a54a",
   "metadata": {},
   "outputs": [],
   "source": []
  }
 ],
 "metadata": {
  "kernelspec": {
   "display_name": "Python 3",
   "language": "python",
   "name": "python3"
  },
  "language_info": {
   "codemirror_mode": {
    "name": "ipython",
    "version": 3
   },
   "file_extension": ".py",
   "mimetype": "text/x-python",
   "name": "python",
   "nbconvert_exporter": "python",
   "pygments_lexer": "ipython3",
   "version": "3.8.10"
  }
 },
 "nbformat": 4,
 "nbformat_minor": 5
}
