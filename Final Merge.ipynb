{
 "cells": [
  {
   "cell_type": "code",
   "execution_count": 42,
   "id": "f3fdbf23",
   "metadata": {},
   "outputs": [
    {
     "name": "stdout",
     "output_type": "stream",
     "text": [
      "The autoreload extension is already loaded. To reload it, use:\n",
      "  %reload_ext autoreload\n"
     ]
    }
   ],
   "source": [
    "%load_ext autoreload\n",
    "%autoreload 2\n",
    "\n",
    "import pandas as pd\n",
    "import numpy as np\n",
    "import matplotlib.pyplot as plt\n",
    "\n",
    "from sklearn import metrics\n",
    "from sklearn.model_selection import train_test_split, cross_val_score\n",
    "from sklearn.ensemble import RandomForestClassifier\n",
    "from sklearn.feature_selection import SelectKBest, chi2, RFECV\n",
    "\n",
    "from data_handle import get_data_and_preprocess, cut_data, translate_to_ints, dic_attacks\n",
    "\n",
    "%matplotlib inline\n",
    "plt.rcParams['figure.facecolor'] = 'white'"
   ]
  },
  {
   "cell_type": "markdown",
   "id": "595c6aac",
   "metadata": {},
   "source": [
    "## Dataset loading"
   ]
  },
  {
   "cell_type": "code",
   "execution_count": 43,
   "id": "fe9eb54d",
   "metadata": {},
   "outputs": [],
   "source": [
    "normal_network, normal_energy = get_data_and_preprocess('normal', 'archer')\n",
    "mirai_network, mirai_energy = get_data_and_preprocess('mirai', 'archer')"
   ]
  },
  {
   "cell_type": "code",
   "execution_count": 44,
   "id": "f65c240a",
   "metadata": {},
   "outputs": [
    {
     "data": {
      "text/html": [
       "<div>\n",
       "<style scoped>\n",
       "    .dataframe tbody tr th:only-of-type {\n",
       "        vertical-align: middle;\n",
       "    }\n",
       "\n",
       "    .dataframe tbody tr th {\n",
       "        vertical-align: top;\n",
       "    }\n",
       "\n",
       "    .dataframe thead th {\n",
       "        text-align: right;\n",
       "    }\n",
       "</style>\n",
       "<table border=\"1\" class=\"dataframe\">\n",
       "  <thead>\n",
       "    <tr style=\"text-align: right;\">\n",
       "      <th></th>\n",
       "      <th>Time</th>\n",
       "      <th>Source</th>\n",
       "      <th>Destination</th>\n",
       "      <th>Protocol</th>\n",
       "      <th>Length</th>\n",
       "      <th>energy</th>\n",
       "      <th>target</th>\n",
       "    </tr>\n",
       "  </thead>\n",
       "  <tbody>\n",
       "    <tr>\n",
       "      <th>0</th>\n",
       "      <td>0.000000</td>\n",
       "      <td>172.31.1.15</td>\n",
       "      <td>8.8.8.8</td>\n",
       "      <td>DNS</td>\n",
       "      <td>71</td>\n",
       "      <td>0.00</td>\n",
       "      <td>normal</td>\n",
       "    </tr>\n",
       "    <tr>\n",
       "      <th>1</th>\n",
       "      <td>0.020682</td>\n",
       "      <td>8.8.8.8</td>\n",
       "      <td>172.31.1.15</td>\n",
       "      <td>DNS</td>\n",
       "      <td>135</td>\n",
       "      <td>0.00</td>\n",
       "      <td>normal</td>\n",
       "    </tr>\n",
       "    <tr>\n",
       "      <th>2</th>\n",
       "      <td>5.002782</td>\n",
       "      <td>Tp-LinkT_81:9e:53</td>\n",
       "      <td>PcsCompu_73:1d:1d</td>\n",
       "      <td>ARP</td>\n",
       "      <td>60</td>\n",
       "      <td>0.14</td>\n",
       "      <td>normal</td>\n",
       "    </tr>\n",
       "    <tr>\n",
       "      <th>3</th>\n",
       "      <td>5.002810</td>\n",
       "      <td>PcsCompu_73:1d:1d</td>\n",
       "      <td>Tp-LinkT_81:9e:53</td>\n",
       "      <td>ARP</td>\n",
       "      <td>42</td>\n",
       "      <td>0.14</td>\n",
       "      <td>normal</td>\n",
       "    </tr>\n",
       "    <tr>\n",
       "      <th>4</th>\n",
       "      <td>5.053399</td>\n",
       "      <td>PcsCompu_73:1d:1d</td>\n",
       "      <td>Tp-LinkT_81:9e:53</td>\n",
       "      <td>ARP</td>\n",
       "      <td>42</td>\n",
       "      <td>0.14</td>\n",
       "      <td>normal</td>\n",
       "    </tr>\n",
       "    <tr>\n",
       "      <th>...</th>\n",
       "      <td>...</td>\n",
       "      <td>...</td>\n",
       "      <td>...</td>\n",
       "      <td>...</td>\n",
       "      <td>...</td>\n",
       "      <td>...</td>\n",
       "      <td>...</td>\n",
       "    </tr>\n",
       "    <tr>\n",
       "      <th>670</th>\n",
       "      <td>1783.318520</td>\n",
       "      <td>8.8.8.8</td>\n",
       "      <td>172.31.1.15</td>\n",
       "      <td>DNS</td>\n",
       "      <td>94</td>\n",
       "      <td>0.22</td>\n",
       "      <td>normal</td>\n",
       "    </tr>\n",
       "    <tr>\n",
       "      <th>671</th>\n",
       "      <td>1785.845176</td>\n",
       "      <td>172.31.1.15</td>\n",
       "      <td>8.8.8.8</td>\n",
       "      <td>DNS</td>\n",
       "      <td>68</td>\n",
       "      <td>0.22</td>\n",
       "      <td>normal</td>\n",
       "    </tr>\n",
       "    <tr>\n",
       "      <th>672</th>\n",
       "      <td>1785.858714</td>\n",
       "      <td>8.8.8.8</td>\n",
       "      <td>172.31.1.15</td>\n",
       "      <td>DNS</td>\n",
       "      <td>100</td>\n",
       "      <td>0.22</td>\n",
       "      <td>normal</td>\n",
       "    </tr>\n",
       "    <tr>\n",
       "      <th>673</th>\n",
       "      <td>1790.909397</td>\n",
       "      <td>PcsCompu_73:1d:1d</td>\n",
       "      <td>Tp-LinkT_81:9e:53</td>\n",
       "      <td>ARP</td>\n",
       "      <td>42</td>\n",
       "      <td>0.21</td>\n",
       "      <td>normal</td>\n",
       "    </tr>\n",
       "    <tr>\n",
       "      <th>674</th>\n",
       "      <td>1790.909818</td>\n",
       "      <td>Tp-LinkT_81:9e:53</td>\n",
       "      <td>PcsCompu_73:1d:1d</td>\n",
       "      <td>ARP</td>\n",
       "      <td>60</td>\n",
       "      <td>0.21</td>\n",
       "      <td>normal</td>\n",
       "    </tr>\n",
       "  </tbody>\n",
       "</table>\n",
       "<p>675 rows × 7 columns</p>\n",
       "</div>"
      ],
      "text/plain": [
       "            Time             Source        Destination Protocol  Length  \\\n",
       "0       0.000000        172.31.1.15            8.8.8.8      DNS      71   \n",
       "1       0.020682            8.8.8.8        172.31.1.15      DNS     135   \n",
       "2       5.002782  Tp-LinkT_81:9e:53  PcsCompu_73:1d:1d      ARP      60   \n",
       "3       5.002810  PcsCompu_73:1d:1d  Tp-LinkT_81:9e:53      ARP      42   \n",
       "4       5.053399  PcsCompu_73:1d:1d  Tp-LinkT_81:9e:53      ARP      42   \n",
       "..           ...                ...                ...      ...     ...   \n",
       "670  1783.318520            8.8.8.8        172.31.1.15      DNS      94   \n",
       "671  1785.845176        172.31.1.15            8.8.8.8      DNS      68   \n",
       "672  1785.858714            8.8.8.8        172.31.1.15      DNS     100   \n",
       "673  1790.909397  PcsCompu_73:1d:1d  Tp-LinkT_81:9e:53      ARP      42   \n",
       "674  1790.909818  Tp-LinkT_81:9e:53  PcsCompu_73:1d:1d      ARP      60   \n",
       "\n",
       "     energy  target  \n",
       "0      0.00  normal  \n",
       "1      0.00  normal  \n",
       "2      0.14  normal  \n",
       "3      0.14  normal  \n",
       "4      0.14  normal  \n",
       "..      ...     ...  \n",
       "670    0.22  normal  \n",
       "671    0.22  normal  \n",
       "672    0.22  normal  \n",
       "673    0.21  normal  \n",
       "674    0.21  normal  \n",
       "\n",
       "[675 rows x 7 columns]"
      ]
     },
     "execution_count": 44,
     "metadata": {},
     "output_type": "execute_result"
    }
   ],
   "source": [
    "normal_network"
   ]
  },
  {
   "cell_type": "code",
   "execution_count": 45,
   "id": "e11a2d0f",
   "metadata": {},
   "outputs": [
    {
     "data": {
      "text/html": [
       "<div>\n",
       "<style scoped>\n",
       "    .dataframe tbody tr th:only-of-type {\n",
       "        vertical-align: middle;\n",
       "    }\n",
       "\n",
       "    .dataframe tbody tr th {\n",
       "        vertical-align: top;\n",
       "    }\n",
       "\n",
       "    .dataframe thead th {\n",
       "        text-align: right;\n",
       "    }\n",
       "</style>\n",
       "<table border=\"1\" class=\"dataframe\">\n",
       "  <thead>\n",
       "    <tr style=\"text-align: right;\">\n",
       "      <th></th>\n",
       "      <th>energy</th>\n",
       "      <th>time</th>\n",
       "    </tr>\n",
       "  </thead>\n",
       "  <tbody>\n",
       "    <tr>\n",
       "      <th>0</th>\n",
       "      <td>0.00</td>\n",
       "      <td>0</td>\n",
       "    </tr>\n",
       "    <tr>\n",
       "      <th>1</th>\n",
       "      <td>0.00</td>\n",
       "      <td>1</td>\n",
       "    </tr>\n",
       "    <tr>\n",
       "      <th>2</th>\n",
       "      <td>0.06</td>\n",
       "      <td>2</td>\n",
       "    </tr>\n",
       "    <tr>\n",
       "      <th>3</th>\n",
       "      <td>0.11</td>\n",
       "      <td>3</td>\n",
       "    </tr>\n",
       "    <tr>\n",
       "      <th>4</th>\n",
       "      <td>0.12</td>\n",
       "      <td>4</td>\n",
       "    </tr>\n",
       "    <tr>\n",
       "      <th>...</th>\n",
       "      <td>...</td>\n",
       "      <td>...</td>\n",
       "    </tr>\n",
       "    <tr>\n",
       "      <th>1792</th>\n",
       "      <td>0.22</td>\n",
       "      <td>1792</td>\n",
       "    </tr>\n",
       "    <tr>\n",
       "      <th>1793</th>\n",
       "      <td>0.22</td>\n",
       "      <td>1793</td>\n",
       "    </tr>\n",
       "    <tr>\n",
       "      <th>1794</th>\n",
       "      <td>0.22</td>\n",
       "      <td>1794</td>\n",
       "    </tr>\n",
       "    <tr>\n",
       "      <th>1795</th>\n",
       "      <td>0.23</td>\n",
       "      <td>1795</td>\n",
       "    </tr>\n",
       "    <tr>\n",
       "      <th>1796</th>\n",
       "      <td>0.23</td>\n",
       "      <td>1796</td>\n",
       "    </tr>\n",
       "  </tbody>\n",
       "</table>\n",
       "<p>1797 rows × 2 columns</p>\n",
       "</div>"
      ],
      "text/plain": [
       "      energy  time\n",
       "0       0.00     0\n",
       "1       0.00     1\n",
       "2       0.06     2\n",
       "3       0.11     3\n",
       "4       0.12     4\n",
       "...      ...   ...\n",
       "1792    0.22  1792\n",
       "1793    0.22  1793\n",
       "1794    0.22  1794\n",
       "1795    0.23  1795\n",
       "1796    0.23  1796\n",
       "\n",
       "[1797 rows x 2 columns]"
      ]
     },
     "execution_count": 45,
     "metadata": {},
     "output_type": "execute_result"
    }
   ],
   "source": [
    "normal_energy"
   ]
  },
  {
   "cell_type": "code",
   "execution_count": 46,
   "id": "63a61fad",
   "metadata": {},
   "outputs": [],
   "source": [
    "# Get all datasets in the same time-frame\n",
    "normal_network, normal_energy, mirai_network, mirai_energy = cut_data(normal_network, normal_energy, mirai_network, mirai_energy)"
   ]
  },
  {
   "cell_type": "code",
   "execution_count": 75,
   "id": "f3455272",
   "metadata": {},
   "outputs": [
    {
     "name": "stdout",
     "output_type": "stream",
     "text": [
      "(675, 7)\n",
      "(1791, 2)\n",
      "(438906, 7)\n",
      "(1791, 2)\n"
     ]
    },
    {
     "data": {
      "text/plain": [
       "[None, None, None, None]"
      ]
     },
     "execution_count": 75,
     "metadata": {},
     "output_type": "execute_result"
    }
   ],
   "source": [
    "[print(a.shape) for a in [normal_network, normal_energy, mirai_network, mirai_energy]]"
   ]
  },
  {
   "cell_type": "markdown",
   "id": "5f46c790",
   "metadata": {},
   "source": [
    "## Energy usage"
   ]
  },
  {
   "cell_type": "code",
   "execution_count": 47,
   "id": "68873b2f",
   "metadata": {},
   "outputs": [
    {
     "data": {
      "image/png": "[encoded data removed]",
      "text/plain": [
       "<Figure size 1440x432 with 1 Axes>"
      ]
     },
     "metadata": {},
     "output_type": "display_data"
    }
   ],
   "source": [
    "fig, ax = plt.subplots()\n",
    "fig.set_size_inches(20, 6)\n",
    "\n",
    "ax.plot(normal_energy['time'], normal_energy['energy'], label='Normal conditions')\n",
    "ax.plot(mirai_energy['time'], mirai_energy['energy'], label='Mirai attack')\n",
    "ax.set_title('Energy consumption of the device over time')\n",
    "ax.set_xlabel('Time (in seconds)')\n",
    "ax.set_ylabel('Energy consumption')\n",
    "ax.legend(loc=4, prop={'size': 12})\n",
    "ax.grid()"
   ]
  },
  {
   "cell_type": "code",
   "execution_count": 48,
   "id": "cd2e2218",
   "metadata": {},
   "outputs": [
    {
     "data": {
      "image/png": "[encoded data removed]",
      "text/plain": [
       "<Figure size 1440x432 with 1 Axes>"
      ]
     },
     "metadata": {},
     "output_type": "display_data"
    }
   ],
   "source": [
    "fig, ax = plt.subplots()\n",
    "fig.set_size_inches(20, 6)\n",
    "\n",
    "max_time = min(normal_energy['time'].max(), mirai_energy['time'].max())\n",
    "\n",
    "ax.plot(normal_energy['time'], normal_energy['energy'], label='Measured energy usage')\n",
    "ax.scatter(normal_network['Time'], normal_network['energy'], label='Packet energy usage', c='r', marker='+', zorder=10)\n",
    "ax.set_title('Energy consumption of a normal device over time')\n",
    "ax.set_xlabel('Time (in seconds)')\n",
    "ax.set_ylabel('Energy consumption')\n",
    "ax.legend(loc=4, prop={'size': 12})\n",
    "ax.grid()"
   ]
  },
  {
   "cell_type": "markdown",
   "id": "4ca48b8c",
   "metadata": {},
   "source": [
    "## Protocol study"
   ]
  },
  {
   "cell_type": "code",
   "execution_count": 77,
   "id": "91724dd9",
   "metadata": {},
   "outputs": [
    {
     "name": "stdout",
     "output_type": "stream",
     "text": [
      "Count of the packets of each protocol\n"
     ]
    },
    {
     "data": {
      "text/html": [
       "<div>\n",
       "<style scoped>\n",
       "    .dataframe tbody tr th:only-of-type {\n",
       "        vertical-align: middle;\n",
       "    }\n",
       "\n",
       "    .dataframe tbody tr th {\n",
       "        vertical-align: top;\n",
       "    }\n",
       "\n",
       "    .dataframe thead th {\n",
       "        text-align: right;\n",
       "    }\n",
       "</style>\n",
       "<table border=\"1\" class=\"dataframe\">\n",
       "  <thead>\n",
       "    <tr style=\"text-align: right;\">\n",
       "      <th></th>\n",
       "      <th>Normal</th>\n",
       "      <th>Mirai attack</th>\n",
       "    </tr>\n",
       "    <tr>\n",
       "      <th>Protocol</th>\n",
       "      <th></th>\n",
       "      <th></th>\n",
       "    </tr>\n",
       "  </thead>\n",
       "  <tbody>\n",
       "    <tr>\n",
       "      <th>ARP</th>\n",
       "      <td>178</td>\n",
       "      <td>200</td>\n",
       "    </tr>\n",
       "    <tr>\n",
       "      <th>DHCP</th>\n",
       "      <td>12</td>\n",
       "      <td>12</td>\n",
       "    </tr>\n",
       "    <tr>\n",
       "      <th>DNS</th>\n",
       "      <td>430</td>\n",
       "      <td>464</td>\n",
       "    </tr>\n",
       "    <tr>\n",
       "      <th>NTP</th>\n",
       "      <td>4</td>\n",
       "      <td>4</td>\n",
       "    </tr>\n",
       "    <tr>\n",
       "      <th>TCP</th>\n",
       "      <td>32</td>\n",
       "      <td>437950</td>\n",
       "    </tr>\n",
       "    <tr>\n",
       "      <th>TLSv1.2</th>\n",
       "      <td>18</td>\n",
       "      <td>30</td>\n",
       "    </tr>\n",
       "  </tbody>\n",
       "</table>\n",
       "</div>"
      ],
      "text/plain": [
       "          Normal  Mirai attack\n",
       "Protocol                      \n",
       "ARP          178           200\n",
       "DHCP          12            12\n",
       "DNS          430           464\n",
       "NTP            4             4\n",
       "TCP           32        437950\n",
       "TLSv1.2       18            30"
      ]
     },
     "execution_count": 77,
     "metadata": {},
     "output_type": "execute_result"
    }
   ],
   "source": [
    "print(\"Count of the packets of each protocol\")\n",
    "df = pd.DataFrame()\n",
    "df['Normal'] = normal_network.groupby('Protocol').count()['Length']\n",
    "df['Mirai attack'] = mirai_network.groupby('Protocol').count()['Length']\n",
    "df"
   ]
  },
  {
   "cell_type": "code",
   "execution_count": 51,
   "id": "3e24d923",
   "metadata": {},
   "outputs": [
    {
     "data": {
      "text/plain": [
       "<AxesSubplot:title={'center':'Bar graph for each protocol in normal communications'}, ylabel='Count'>"
      ]
     },
     "execution_count": 51,
     "metadata": {},
     "output_type": "execute_result"
    },
    {
     "data": {
      "image/png": "[encoded data removed]",
      "text/plain": [
       "<Figure size 432x288 with 1 Axes>"
      ]
     },
     "metadata": {},
     "output_type": "display_data"
    }
   ],
   "source": [
    "normal_network['Protocol'].value_counts().plot.bar(title=\"Bar graph for each protocol in normal communications\", ylabel=\"Count\")"
   ]
  },
  {
   "cell_type": "markdown",
   "id": "2bd09907",
   "metadata": {},
   "source": [
    "## Getting data ready for the model"
   ]
  },
  {
   "cell_type": "code",
   "execution_count": 52,
   "id": "75b09c60",
   "metadata": {},
   "outputs": [
    {
     "data": {
      "text/html": [
       "<div>\n",
       "<style scoped>\n",
       "    .dataframe tbody tr th:only-of-type {\n",
       "        vertical-align: middle;\n",
       "    }\n",
       "\n",
       "    .dataframe tbody tr th {\n",
       "        vertical-align: top;\n",
       "    }\n",
       "\n",
       "    .dataframe thead th {\n",
       "        text-align: right;\n",
       "    }\n",
       "</style>\n",
       "<table border=\"1\" class=\"dataframe\">\n",
       "  <thead>\n",
       "    <tr style=\"text-align: right;\">\n",
       "      <th></th>\n",
       "      <th>Time</th>\n",
       "      <th>Length</th>\n",
       "      <th>energy</th>\n",
       "    </tr>\n",
       "  </thead>\n",
       "  <tbody>\n",
       "    <tr>\n",
       "      <th>Time</th>\n",
       "      <td>1.000000</td>\n",
       "      <td>-0.105717</td>\n",
       "      <td>0.104204</td>\n",
       "    </tr>\n",
       "    <tr>\n",
       "      <th>Length</th>\n",
       "      <td>-0.105717</td>\n",
       "      <td>1.000000</td>\n",
       "      <td>0.052379</td>\n",
       "    </tr>\n",
       "    <tr>\n",
       "      <th>energy</th>\n",
       "      <td>0.104204</td>\n",
       "      <td>0.052379</td>\n",
       "      <td>1.000000</td>\n",
       "    </tr>\n",
       "  </tbody>\n",
       "</table>\n",
       "</div>"
      ],
      "text/plain": [
       "            Time    Length    energy\n",
       "Time    1.000000 -0.105717  0.104204\n",
       "Length -0.105717  1.000000  0.052379\n",
       "energy  0.104204  0.052379  1.000000"
      ]
     },
     "execution_count": 52,
     "metadata": {},
     "output_type": "execute_result"
    }
   ],
   "source": [
    "normal_network.corr()"
   ]
  },
  {
   "cell_type": "code",
   "execution_count": 53,
   "id": "dfb0d20d",
   "metadata": {},
   "outputs": [
    {
     "name": "stderr",
     "output_type": "stream",
     "text": [
      "/tmp/ipykernel_6864/1347146614.py:1: FutureWarning: The frame.append method is deprecated and will be removed from pandas in a future version. Use pandas.concat instead.\n",
      "  Final_merge_readable = normal_network.append(mirai_network)\n"
     ]
    },
    {
     "data": {
      "text/html": [
       "<div>\n",
       "<style scoped>\n",
       "    .dataframe tbody tr th:only-of-type {\n",
       "        vertical-align: middle;\n",
       "    }\n",
       "\n",
       "    .dataframe tbody tr th {\n",
       "        vertical-align: top;\n",
       "    }\n",
       "\n",
       "    .dataframe thead th {\n",
       "        text-align: right;\n",
       "    }\n",
       "</style>\n",
       "<table border=\"1\" class=\"dataframe\">\n",
       "  <thead>\n",
       "    <tr style=\"text-align: right;\">\n",
       "      <th></th>\n",
       "      <th>Time</th>\n",
       "      <th>Source</th>\n",
       "      <th>Destination</th>\n",
       "      <th>Protocol</th>\n",
       "      <th>Length</th>\n",
       "      <th>energy</th>\n",
       "      <th>target</th>\n",
       "    </tr>\n",
       "  </thead>\n",
       "  <tbody>\n",
       "    <tr>\n",
       "      <th>0</th>\n",
       "      <td>0.000000</td>\n",
       "      <td>172.31.1.15</td>\n",
       "      <td>8.8.8.8</td>\n",
       "      <td>DNS</td>\n",
       "      <td>71</td>\n",
       "      <td>0.00</td>\n",
       "      <td>normal</td>\n",
       "    </tr>\n",
       "    <tr>\n",
       "      <th>1</th>\n",
       "      <td>0.020682</td>\n",
       "      <td>8.8.8.8</td>\n",
       "      <td>172.31.1.15</td>\n",
       "      <td>DNS</td>\n",
       "      <td>135</td>\n",
       "      <td>0.00</td>\n",
       "      <td>normal</td>\n",
       "    </tr>\n",
       "    <tr>\n",
       "      <th>2</th>\n",
       "      <td>5.002782</td>\n",
       "      <td>Tp-LinkT_81:9e:53</td>\n",
       "      <td>PcsCompu_73:1d:1d</td>\n",
       "      <td>ARP</td>\n",
       "      <td>60</td>\n",
       "      <td>0.14</td>\n",
       "      <td>normal</td>\n",
       "    </tr>\n",
       "    <tr>\n",
       "      <th>3</th>\n",
       "      <td>5.002810</td>\n",
       "      <td>PcsCompu_73:1d:1d</td>\n",
       "      <td>Tp-LinkT_81:9e:53</td>\n",
       "      <td>ARP</td>\n",
       "      <td>42</td>\n",
       "      <td>0.14</td>\n",
       "      <td>normal</td>\n",
       "    </tr>\n",
       "    <tr>\n",
       "      <th>4</th>\n",
       "      <td>5.053399</td>\n",
       "      <td>PcsCompu_73:1d:1d</td>\n",
       "      <td>Tp-LinkT_81:9e:53</td>\n",
       "      <td>ARP</td>\n",
       "      <td>42</td>\n",
       "      <td>0.14</td>\n",
       "      <td>normal</td>\n",
       "    </tr>\n",
       "    <tr>\n",
       "      <th>...</th>\n",
       "      <td>...</td>\n",
       "      <td>...</td>\n",
       "      <td>...</td>\n",
       "      <td>...</td>\n",
       "      <td>...</td>\n",
       "      <td>...</td>\n",
       "      <td>...</td>\n",
       "    </tr>\n",
       "    <tr>\n",
       "      <th>438901</th>\n",
       "      <td>1786.267402</td>\n",
       "      <td>172.31.0.17</td>\n",
       "      <td>172.31.1.15</td>\n",
       "      <td>TCP</td>\n",
       "      <td>74</td>\n",
       "      <td>0.28</td>\n",
       "      <td>mirai</td>\n",
       "    </tr>\n",
       "    <tr>\n",
       "      <th>438902</th>\n",
       "      <td>1786.267408</td>\n",
       "      <td>172.31.0.17</td>\n",
       "      <td>172.31.1.15</td>\n",
       "      <td>TCP</td>\n",
       "      <td>74</td>\n",
       "      <td>0.28</td>\n",
       "      <td>mirai</td>\n",
       "    </tr>\n",
       "    <tr>\n",
       "      <th>438903</th>\n",
       "      <td>1786.267413</td>\n",
       "      <td>172.31.0.17</td>\n",
       "      <td>172.31.1.15</td>\n",
       "      <td>TCP</td>\n",
       "      <td>74</td>\n",
       "      <td>0.28</td>\n",
       "      <td>mirai</td>\n",
       "    </tr>\n",
       "    <tr>\n",
       "      <th>438904</th>\n",
       "      <td>1786.267417</td>\n",
       "      <td>172.31.0.17</td>\n",
       "      <td>172.31.1.15</td>\n",
       "      <td>TCP</td>\n",
       "      <td>74</td>\n",
       "      <td>0.28</td>\n",
       "      <td>mirai</td>\n",
       "    </tr>\n",
       "    <tr>\n",
       "      <th>438905</th>\n",
       "      <td>1790.176975</td>\n",
       "      <td>172.31.0.17</td>\n",
       "      <td>172.31.1.15</td>\n",
       "      <td>TCP</td>\n",
       "      <td>74</td>\n",
       "      <td>0.28</td>\n",
       "      <td>mirai</td>\n",
       "    </tr>\n",
       "  </tbody>\n",
       "</table>\n",
       "<p>439581 rows × 7 columns</p>\n",
       "</div>"
      ],
      "text/plain": [
       "               Time             Source        Destination Protocol  Length  \\\n",
       "0          0.000000        172.31.1.15            8.8.8.8      DNS      71   \n",
       "1          0.020682            8.8.8.8        172.31.1.15      DNS     135   \n",
       "2          5.002782  Tp-LinkT_81:9e:53  PcsCompu_73:1d:1d      ARP      60   \n",
       "3          5.002810  PcsCompu_73:1d:1d  Tp-LinkT_81:9e:53      ARP      42   \n",
       "4          5.053399  PcsCompu_73:1d:1d  Tp-LinkT_81:9e:53      ARP      42   \n",
       "...             ...                ...                ...      ...     ...   \n",
       "438901  1786.267402        172.31.0.17        172.31.1.15      TCP      74   \n",
       "438902  1786.267408        172.31.0.17        172.31.1.15      TCP      74   \n",
       "438903  1786.267413        172.31.0.17        172.31.1.15      TCP      74   \n",
       "438904  1786.267417        172.31.0.17        172.31.1.15      TCP      74   \n",
       "438905  1790.176975        172.31.0.17        172.31.1.15      TCP      74   \n",
       "\n",
       "        energy  target  \n",
       "0         0.00  normal  \n",
       "1         0.00  normal  \n",
       "2         0.14  normal  \n",
       "3         0.14  normal  \n",
       "4         0.14  normal  \n",
       "...        ...     ...  \n",
       "438901    0.28   mirai  \n",
       "438902    0.28   mirai  \n",
       "438903    0.28   mirai  \n",
       "438904    0.28   mirai  \n",
       "438905    0.28   mirai  \n",
       "\n",
       "[439581 rows x 7 columns]"
      ]
     },
     "execution_count": 53,
     "metadata": {},
     "output_type": "execute_result"
    }
   ],
   "source": [
    "Final_merge_readable = normal_network.append(mirai_network)\n",
    "Final_merge_readable = Final_merge_readable[Final_merge_readable.Protocol != 0]\n",
    "Final_merge_readable"
   ]
  },
  {
   "cell_type": "code",
   "execution_count": 54,
   "id": "f017f03d",
   "metadata": {},
   "outputs": [
    {
     "data": {
      "text/plain": [
       "Protocol\n",
       "ARP           378\n",
       "DHCP           24\n",
       "DNS           894\n",
       "ICMP          245\n",
       "ICMPv6          2\n",
       "NTP             8\n",
       "TCP        437982\n",
       "TLSv1.2        48\n",
       "Name: Time, dtype: int64"
      ]
     },
     "execution_count": 54,
     "metadata": {},
     "output_type": "execute_result"
    }
   ],
   "source": [
    "Final_merge_readable.groupby('Protocol').count()['Time']"
   ]
  },
  {
   "cell_type": "code",
   "execution_count": 55,
   "id": "e8db7d48",
   "metadata": {},
   "outputs": [
    {
     "data": {
      "text/html": [
       "<div>\n",
       "<style scoped>\n",
       "    .dataframe tbody tr th:only-of-type {\n",
       "        vertical-align: middle;\n",
       "    }\n",
       "\n",
       "    .dataframe tbody tr th {\n",
       "        vertical-align: top;\n",
       "    }\n",
       "\n",
       "    .dataframe thead th {\n",
       "        text-align: right;\n",
       "    }\n",
       "</style>\n",
       "<table border=\"1\" class=\"dataframe\">\n",
       "  <thead>\n",
       "    <tr style=\"text-align: right;\">\n",
       "      <th></th>\n",
       "      <th>Time</th>\n",
       "      <th>Source</th>\n",
       "      <th>Destination</th>\n",
       "      <th>Protocol</th>\n",
       "      <th>Length</th>\n",
       "      <th>energy</th>\n",
       "      <th>target</th>\n",
       "    </tr>\n",
       "  </thead>\n",
       "  <tbody>\n",
       "    <tr>\n",
       "      <th>0</th>\n",
       "      <td>0.000000</td>\n",
       "      <td>7</td>\n",
       "      <td>12</td>\n",
       "      <td>0</td>\n",
       "      <td>71</td>\n",
       "      <td>0.00</td>\n",
       "      <td>0</td>\n",
       "    </tr>\n",
       "    <tr>\n",
       "      <th>1</th>\n",
       "      <td>0.020682</td>\n",
       "      <td>12</td>\n",
       "      <td>6</td>\n",
       "      <td>0</td>\n",
       "      <td>135</td>\n",
       "      <td>0.00</td>\n",
       "      <td>0</td>\n",
       "    </tr>\n",
       "    <tr>\n",
       "      <th>2</th>\n",
       "      <td>5.002782</td>\n",
       "      <td>14</td>\n",
       "      <td>14</td>\n",
       "      <td>1</td>\n",
       "      <td>60</td>\n",
       "      <td>0.14</td>\n",
       "      <td>0</td>\n",
       "    </tr>\n",
       "    <tr>\n",
       "      <th>3</th>\n",
       "      <td>5.002810</td>\n",
       "      <td>13</td>\n",
       "      <td>15</td>\n",
       "      <td>1</td>\n",
       "      <td>42</td>\n",
       "      <td>0.14</td>\n",
       "      <td>0</td>\n",
       "    </tr>\n",
       "    <tr>\n",
       "      <th>4</th>\n",
       "      <td>5.053399</td>\n",
       "      <td>13</td>\n",
       "      <td>15</td>\n",
       "      <td>1</td>\n",
       "      <td>42</td>\n",
       "      <td>0.14</td>\n",
       "      <td>0</td>\n",
       "    </tr>\n",
       "    <tr>\n",
       "      <th>...</th>\n",
       "      <td>...</td>\n",
       "      <td>...</td>\n",
       "      <td>...</td>\n",
       "      <td>...</td>\n",
       "      <td>...</td>\n",
       "      <td>...</td>\n",
       "      <td>...</td>\n",
       "    </tr>\n",
       "    <tr>\n",
       "      <th>438901</th>\n",
       "      <td>1786.267402</td>\n",
       "      <td>5</td>\n",
       "      <td>6</td>\n",
       "      <td>4</td>\n",
       "      <td>74</td>\n",
       "      <td>0.28</td>\n",
       "      <td>1</td>\n",
       "    </tr>\n",
       "    <tr>\n",
       "      <th>438902</th>\n",
       "      <td>1786.267408</td>\n",
       "      <td>5</td>\n",
       "      <td>6</td>\n",
       "      <td>4</td>\n",
       "      <td>74</td>\n",
       "      <td>0.28</td>\n",
       "      <td>1</td>\n",
       "    </tr>\n",
       "    <tr>\n",
       "      <th>438903</th>\n",
       "      <td>1786.267413</td>\n",
       "      <td>5</td>\n",
       "      <td>6</td>\n",
       "      <td>4</td>\n",
       "      <td>74</td>\n",
       "      <td>0.28</td>\n",
       "      <td>1</td>\n",
       "    </tr>\n",
       "    <tr>\n",
       "      <th>438904</th>\n",
       "      <td>1786.267417</td>\n",
       "      <td>5</td>\n",
       "      <td>6</td>\n",
       "      <td>4</td>\n",
       "      <td>74</td>\n",
       "      <td>0.28</td>\n",
       "      <td>1</td>\n",
       "    </tr>\n",
       "    <tr>\n",
       "      <th>438905</th>\n",
       "      <td>1790.176975</td>\n",
       "      <td>5</td>\n",
       "      <td>6</td>\n",
       "      <td>4</td>\n",
       "      <td>74</td>\n",
       "      <td>0.28</td>\n",
       "      <td>1</td>\n",
       "    </tr>\n",
       "  </tbody>\n",
       "</table>\n",
       "<p>439581 rows × 7 columns</p>\n",
       "</div>"
      ],
      "text/plain": [
       "               Time  Source  Destination  Protocol  Length  energy  target\n",
       "0          0.000000       7           12         0      71    0.00       0\n",
       "1          0.020682      12            6         0     135    0.00       0\n",
       "2          5.002782      14           14         1      60    0.14       0\n",
       "3          5.002810      13           15         1      42    0.14       0\n",
       "4          5.053399      13           15         1      42    0.14       0\n",
       "...             ...     ...          ...       ...     ...     ...     ...\n",
       "438901  1786.267402       5            6         4      74    0.28       1\n",
       "438902  1786.267408       5            6         4      74    0.28       1\n",
       "438903  1786.267413       5            6         4      74    0.28       1\n",
       "438904  1786.267417       5            6         4      74    0.28       1\n",
       "438905  1790.176975       5            6         4      74    0.28       1\n",
       "\n",
       "[439581 rows x 7 columns]"
      ]
     },
     "execution_count": 55,
     "metadata": {},
     "output_type": "execute_result"
    }
   ],
   "source": [
    "Final_merge = translate_to_ints(Final_merge_readable.copy())\n",
    "Final_merge"
   ]
  },
  {
   "cell_type": "code",
   "execution_count": 56,
   "id": "ec2d7da0",
   "metadata": {},
   "outputs": [],
   "source": [
    "Final_merge.to_csv('QRS_dataset/FinalSet.csv')"
   ]
  },
  {
   "cell_type": "markdown",
   "id": "d2caa96e",
   "metadata": {},
   "source": [
    "## Random Forest"
   ]
  },
  {
   "cell_type": "code",
   "execution_count": 57,
   "id": "b3aa97e7",
   "metadata": {},
   "outputs": [
    {
     "name": "stdout",
     "output_type": "stream",
     "text": [
      "Train size: 175832\n",
      "Test size:  263749\n"
     ]
    }
   ],
   "source": [
    "# Target variable and train set\n",
    "y = Final_merge[['target']]\n",
    "X = Final_merge.drop(['target', ], axis = 1)\n",
    "\n",
    "# Split test and train data \n",
    "X_train, X_test, y_train, y_test = train_test_split(X, y, test_size = 0.6, random_state = 42)\n",
    "print('Train size:', X_train.shape[0])\n",
    "print('Test size: ', X_test.shape[0])"
   ]
  },
  {
   "cell_type": "code",
   "execution_count": 58,
   "id": "5e951ee0",
   "metadata": {},
   "outputs": [
    {
     "data": {
      "text/plain": [
       "RandomForestClassifier(n_estimators=5)"
      ]
     },
     "execution_count": 58,
     "metadata": {},
     "output_type": "execute_result"
    }
   ],
   "source": [
    "clf = RandomForestClassifier(5)\n",
    "clf.fit(X_train, y_train['target'])"
   ]
  },
  {
   "cell_type": "code",
   "execution_count": 59,
   "id": "d2ed428a",
   "metadata": {},
   "outputs": [
    {
     "name": "stdout",
     "output_type": "stream",
     "text": [
      "Original mirai packet share: 0.9984644468254997\n",
      "Score: 0.9999810425821519\n"
     ]
    },
    {
     "data": {
      "text/html": [
       "<div>\n",
       "<style scoped>\n",
       "    .dataframe tbody tr th:only-of-type {\n",
       "        vertical-align: middle;\n",
       "    }\n",
       "\n",
       "    .dataframe tbody tr th {\n",
       "        vertical-align: top;\n",
       "    }\n",
       "\n",
       "    .dataframe thead th {\n",
       "        text-align: right;\n",
       "    }\n",
       "</style>\n",
       "<table border=\"1\" class=\"dataframe\">\n",
       "  <thead>\n",
       "    <tr style=\"text-align: right;\">\n",
       "      <th></th>\n",
       "      <th>predicted</th>\n",
       "      <th>actual</th>\n",
       "    </tr>\n",
       "  </thead>\n",
       "  <tbody>\n",
       "    <tr>\n",
       "      <th>normal</th>\n",
       "      <td>403</td>\n",
       "      <td>402</td>\n",
       "    </tr>\n",
       "    <tr>\n",
       "      <th>mirai</th>\n",
       "      <td>263346</td>\n",
       "      <td>263347</td>\n",
       "    </tr>\n",
       "  </tbody>\n",
       "</table>\n",
       "</div>"
      ],
      "text/plain": [
       "        predicted  actual\n",
       "normal        403     402\n",
       "mirai      263346  263347"
      ]
     },
     "execution_count": 59,
     "metadata": {},
     "output_type": "execute_result"
    }
   ],
   "source": [
    "print(\"Original mirai packet share:\", mirai_network.shape[0]/(normal_network.shape[0]+mirai_network.shape[0]))\n",
    "\n",
    "print(\"Score:\", clf.score(X_test, y_test))\n",
    "\n",
    "y_pred = clf.predict(X_test)\n",
    "\n",
    "dic_attacks_inv = {v:k for k,v in dic_attacks.items()}\n",
    "\n",
    "unique, counts = np.unique(y_pred, return_counts=True)\n",
    "unique = [dic_attacks_inv[u] for u in unique]\n",
    "df = pd.DataFrame(index=unique)\n",
    "df['predicted'] = counts\n",
    "unique, counts = np.unique(y_test, return_counts=True)\n",
    "df['actual'] = counts\n",
    "df"
   ]
  },
  {
   "cell_type": "code",
   "execution_count": 60,
   "id": "61eff392",
   "metadata": {},
   "outputs": [
    {
     "data": {
      "text/plain": [
       "array([0.99864437, 1.        , 1.        , 1.        , 1.        ,\n",
       "       1.        , 1.        , 1.        , 1.        , 1.        ])"
      ]
     },
     "execution_count": 60,
     "metadata": {},
     "output_type": "execute_result"
    }
   ],
   "source": [
    "clf_cv_score = cross_val_score(clf, X, y['target'], cv=10, scoring='roc_auc')\n",
    "clf_cv_score"
   ]
  },
  {
   "cell_type": "code",
   "execution_count": 61,
   "id": "875fc0a7",
   "metadata": {},
   "outputs": [
    {
     "name": "stdout",
     "output_type": "stream",
     "text": [
      "=================== Confusion Matrix ======================\n",
      "[[   400      2]\n",
      " [     3 263344]]\n",
      "\n",
      "\n",
      "=================== Classification Report =================\n",
      "              precision    recall  f1-score   support\n",
      "\n",
      "           0       0.99      1.00      0.99       402\n",
      "           1       1.00      1.00      1.00    263347\n",
      "\n",
      "    accuracy                           1.00    263749\n",
      "   macro avg       1.00      1.00      1.00    263749\n",
      "weighted avg       1.00      1.00      1.00    263749\n",
      "\n",
      "\n",
      "\n",
      "=================== All AUC Scores =======================\n",
      "[0.99864437 1.         1.         1.         1.         1.\n",
      " 1.         1.         1.         1.        ]\n",
      "\n",
      "\n",
      "=================== Mean AUC Score =======================\n",
      "Mean AUC Score - Random Forest:  0.9998644369005035\n"
     ]
    }
   ],
   "source": [
    "print(\"=================== Confusion Matrix ======================\")\n",
    "print(metrics.confusion_matrix(y_test, y_pred))\n",
    "print('\\n') \n",
    "print(\"=================== Classification Report =================\")\n",
    "print(metrics.classification_report(y_test, y_pred))\n",
    "print('\\n') \n",
    "print(\"=================== All AUC Scores =======================\")\n",
    "print(clf_cv_score)\n",
    "print('\\n') \n",
    "print(\"=================== Mean AUC Score =======================\")\n",
    "print(\"Mean AUC Score - Random Forest: \", clf_cv_score.mean())"
   ]
  },
  {
   "cell_type": "code",
   "execution_count": 62,
   "id": "8c2e5ba9",
   "metadata": {},
   "outputs": [
    {
     "name": "stdout",
     "output_type": "stream",
     "text": [
      "Score list: [8.37216346e+03 1.34653306e+03 6.83566397e+02 7.30046739e+02\n",
      " 4.21591787e+03 3.50055064e+00]\n",
      "Feature list: Index(['Time', 'Source', 'Destination', 'Protocol', 'Length', 'energy'], dtype='object')\n"
     ]
    }
   ],
   "source": [
    "# find best scored 5 features\n",
    "select_feature = SelectKBest(chi2, k=5).fit(X_train, y_train)\n",
    "print('Score list:', select_feature.scores_)\n",
    "print('Feature list:', X_train.columns)"
   ]
  },
  {
   "cell_type": "code",
   "execution_count": 63,
   "id": "9fbd11bc",
   "metadata": {},
   "outputs": [
    {
     "name": "stdout",
     "output_type": "stream",
     "text": [
      "Optimal number of features : 4\n",
      "Best features : Index(['Time', 'Source', 'Destination', 'energy'], dtype='object')\n"
     ]
    }
   ],
   "source": [
    "# The \"accuracy\" scoring is proportional to the number of correct classifications\n",
    "clf_rf_4 = RandomForestClassifier(5) \n",
    "rfecv = RFECV(estimator=clf_rf_4, step=1, cv=5,scoring='accuracy')   #5-fold cross-validation\n",
    "rfecv = rfecv.fit(X_train, y_train['target'])\n",
    "\n",
    "print('Optimal number of features :', rfecv.n_features_)\n",
    "print('Best features :', X_train.columns[rfecv.support_])"
   ]
  },
  {
   "cell_type": "code",
   "execution_count": 64,
   "id": "8a00d761",
   "metadata": {},
   "outputs": [
    {
     "name": "stderr",
     "output_type": "stream",
     "text": [
      "/home/alexis/.local/lib/python3.8/site-packages/sklearn/utils/deprecation.py:103: FutureWarning: The `grid_scores_` attribute is deprecated in version 1.0 in favor of `cv_results_` and will be removed in version 1.2.\n",
      "  warnings.warn(msg, category=FutureWarning)\n"
     ]
    },
    {
     "data": {
      "text/plain": [
       "array([[0.99997156, 1.        , 1.        , 1.        , 0.99997156],\n",
       "       [0.99994313, 1.        , 1.        , 0.99997156, 0.99997156],\n",
       "       [0.99994313, 1.        , 0.99997156, 1.        , 0.99997156],\n",
       "       [0.99997156, 1.        , 1.        , 1.        , 1.        ],\n",
       "       [0.99994313, 1.        , 1.        , 1.        , 1.        ],\n",
       "       [0.99997156, 0.99997156, 1.        , 0.99991469, 0.99997156]])"
      ]
     },
     "execution_count": 64,
     "metadata": {},
     "output_type": "execute_result"
    }
   ],
   "source": [
    "rfecv.grid_scores_"
   ]
  },
  {
   "cell_type": "code",
   "execution_count": 65,
   "id": "79bc121b",
   "metadata": {},
   "outputs": [
    {
     "data": {
      "image/png": "[encoded data removed]",
      "text/plain": [
       "<Figure size 432x288 with 1 Axes>"
      ]
     },
     "metadata": {},
     "output_type": "display_data"
    }
   ],
   "source": [
    "plt.figure()\n",
    "plt.xlabel(\"Number of features selected\")\n",
    "plt.ylabel(\"Cross validation score of number of selected features\")\n",
    "plt.plot(range(1, len(rfecv.grid_scores_) + 1), rfecv.grid_scores_)\n",
    "plt.show()"
   ]
  },
  {
   "cell_type": "code",
   "execution_count": 85,
   "id": "65318b7b",
   "metadata": {},
   "outputs": [
    {
     "name": "stdout",
     "output_type": "stream",
     "text": [
      "Feature ranking:\n",
      "1. feature 5 (0.585900)\n",
      "2. feature 3 (0.181945)\n",
      "3. feature 0 (0.115398)\n",
      "4. feature 1 (0.085670)\n",
      "5. feature 4 (0.016185)\n",
      "6. feature 2 (0.014900)\n"
     ]
    },
    {
     "name": "stderr",
     "output_type": "stream",
     "text": [
      "/tmp/ipykernel_6864/3654372388.py:2: DataConversionWarning: A column-vector y was passed when a 1d array was expected. Please change the shape of y to (n_samples,), for example using ravel().\n",
      "  clr_rf_5 = clf_rf_5.fit(X_train,y_train)\n"
     ]
    },
    {
     "data": {
      "image/png": "[encoded data removed]",
      "text/plain": [
       "<Figure size 576x288 with 1 Axes>"
      ]
     },
     "metadata": {},
     "output_type": "display_data"
    }
   ],
   "source": [
    "clf_rf_5 = RandomForestClassifier(5)\n",
    "clr_rf_5 = clf_rf_5.fit(X_train,y_train)\n",
    "importances = clr_rf_5.feature_importances_\n",
    "std = np.std([tree.feature_importances_ for tree in clf.estimators_],\n",
    "             axis=0)\n",
    "indices = np.argsort(importances)[::-1]\n",
    "\n",
    "# Print the feature ranking\n",
    "print(\"Feature ranking:\")\n",
    "\n",
    "for f in range(X_train.shape[1]):\n",
    "    print(\"%d. feature %d (%f)\" % (f + 1, indices[f], importances[indices[f]]))\n",
    "\n",
    "# Plot the feature importances of the forest\n",
    "\n",
    "plt.figure(1, figsize=(8, 4))\n",
    "#plt.title(\"Feature importances for the Random forest\")\n",
    "plt.bar(range(X_train.shape[1]), importances[indices],\n",
    "       color=\"g\", yerr=std[indices], align=\"center\")\n",
    "plt.xticks(range(X_train.shape[1]), X_train.columns[indices],rotation=0)\n",
    "plt.xlim([-1, X_train.shape[1]])\n",
    "plt.ylim((0,.9))\n",
    "plt.show()\n",
    "#plt.savefig('books_read.png')"
   ]
  },
  {
   "cell_type": "markdown",
   "id": "f84defa1",
   "metadata": {},
   "source": [
    "## Federated"
   ]
  },
  {
   "cell_type": "markdown",
   "id": "9280a54a",
   "metadata": {},
   "source": [
    "Check out the files `server.py` and `client.py`"
   ]
  },
  {
   "cell_type": "code",
   "execution_count": null,
   "id": "1082af29",
   "metadata": {},
   "outputs": [],
   "source": []
  }
 ],
 "metadata": {
  "kernelspec": {
   "display_name": "Python 3",
   "language": "python",
   "name": "python3"
  },
  "language_info": {
   "codemirror_mode": {
    "name": "ipython",
    "version": 3
   },
   "file_extension": ".py",
   "mimetype": "text/x-python",
   "name": "python",
   "nbconvert_exporter": "python",
   "pygments_lexer": "ipython3",
   "version": "3.8.10"
  }
 },
 "nbformat": 4,
 "nbformat_minor": 5
}
